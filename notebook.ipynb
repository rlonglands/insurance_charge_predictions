{
 "cells": [
  {
   "cell_type": "markdown",
   "metadata": {},
   "source": [
    "### ML Zoomcamp Capstone Project"
   ]
  },
  {
   "cell_type": "markdown",
   "metadata": {},
   "source": [
    "#### Regression problem.  Medical Insurance Cost"
   ]
  },
  {
   "cell_type": "code",
   "execution_count": 1,
   "metadata": {},
   "outputs": [],
   "source": [
    "import pandas as pd\n",
    "import numpy as np\n",
    "from matplotlib import pyplot as plt\n",
    "from sklearn.model_selection import train_test_split\n",
    "import seaborn as sns\n",
    "import matplotlib.pyplot as plt \n",
    "from sklearn import metrics\n",
    "from sklearn.linear_model import Ridge\n",
    "from sklearn import linear_model"
   ]
  },
  {
   "cell_type": "markdown",
   "metadata": {},
   "source": [
    "#### Import and clean up"
   ]
  },
  {
   "cell_type": "code",
   "execution_count": 2,
   "metadata": {},
   "outputs": [],
   "source": [
    "df = pd.read_csv('insurance.csv')"
   ]
  },
  {
   "cell_type": "code",
   "execution_count": 3,
   "metadata": {},
   "outputs": [
    {
     "data": {
      "text/html": [
       "<div>\n",
       "<style scoped>\n",
       "    .dataframe tbody tr th:only-of-type {\n",
       "        vertical-align: middle;\n",
       "    }\n",
       "\n",
       "    .dataframe tbody tr th {\n",
       "        vertical-align: top;\n",
       "    }\n",
       "\n",
       "    .dataframe thead th {\n",
       "        text-align: right;\n",
       "    }\n",
       "</style>\n",
       "<table border=\"1\" class=\"dataframe\">\n",
       "  <thead>\n",
       "    <tr style=\"text-align: right;\">\n",
       "      <th></th>\n",
       "      <th>age</th>\n",
       "      <th>sex</th>\n",
       "      <th>bmi</th>\n",
       "      <th>children</th>\n",
       "      <th>smoker</th>\n",
       "      <th>region</th>\n",
       "      <th>charges</th>\n",
       "    </tr>\n",
       "  </thead>\n",
       "  <tbody>\n",
       "    <tr>\n",
       "      <th>0</th>\n",
       "      <td>19</td>\n",
       "      <td>female</td>\n",
       "      <td>27.900</td>\n",
       "      <td>0</td>\n",
       "      <td>yes</td>\n",
       "      <td>southwest</td>\n",
       "      <td>16884.92400</td>\n",
       "    </tr>\n",
       "    <tr>\n",
       "      <th>1</th>\n",
       "      <td>18</td>\n",
       "      <td>male</td>\n",
       "      <td>33.770</td>\n",
       "      <td>1</td>\n",
       "      <td>no</td>\n",
       "      <td>southeast</td>\n",
       "      <td>1725.55230</td>\n",
       "    </tr>\n",
       "    <tr>\n",
       "      <th>2</th>\n",
       "      <td>28</td>\n",
       "      <td>male</td>\n",
       "      <td>33.000</td>\n",
       "      <td>3</td>\n",
       "      <td>no</td>\n",
       "      <td>southeast</td>\n",
       "      <td>4449.46200</td>\n",
       "    </tr>\n",
       "    <tr>\n",
       "      <th>3</th>\n",
       "      <td>33</td>\n",
       "      <td>male</td>\n",
       "      <td>22.705</td>\n",
       "      <td>0</td>\n",
       "      <td>no</td>\n",
       "      <td>northwest</td>\n",
       "      <td>21984.47061</td>\n",
       "    </tr>\n",
       "    <tr>\n",
       "      <th>4</th>\n",
       "      <td>32</td>\n",
       "      <td>male</td>\n",
       "      <td>28.880</td>\n",
       "      <td>0</td>\n",
       "      <td>no</td>\n",
       "      <td>northwest</td>\n",
       "      <td>3866.85520</td>\n",
       "    </tr>\n",
       "    <tr>\n",
       "      <th>...</th>\n",
       "      <td>...</td>\n",
       "      <td>...</td>\n",
       "      <td>...</td>\n",
       "      <td>...</td>\n",
       "      <td>...</td>\n",
       "      <td>...</td>\n",
       "      <td>...</td>\n",
       "    </tr>\n",
       "    <tr>\n",
       "      <th>1333</th>\n",
       "      <td>50</td>\n",
       "      <td>male</td>\n",
       "      <td>30.970</td>\n",
       "      <td>3</td>\n",
       "      <td>no</td>\n",
       "      <td>northwest</td>\n",
       "      <td>10600.54830</td>\n",
       "    </tr>\n",
       "    <tr>\n",
       "      <th>1334</th>\n",
       "      <td>18</td>\n",
       "      <td>female</td>\n",
       "      <td>31.920</td>\n",
       "      <td>0</td>\n",
       "      <td>no</td>\n",
       "      <td>northeast</td>\n",
       "      <td>2205.98080</td>\n",
       "    </tr>\n",
       "    <tr>\n",
       "      <th>1335</th>\n",
       "      <td>18</td>\n",
       "      <td>female</td>\n",
       "      <td>36.850</td>\n",
       "      <td>0</td>\n",
       "      <td>no</td>\n",
       "      <td>southeast</td>\n",
       "      <td>1629.83350</td>\n",
       "    </tr>\n",
       "    <tr>\n",
       "      <th>1336</th>\n",
       "      <td>21</td>\n",
       "      <td>female</td>\n",
       "      <td>25.800</td>\n",
       "      <td>0</td>\n",
       "      <td>no</td>\n",
       "      <td>southwest</td>\n",
       "      <td>2007.94500</td>\n",
       "    </tr>\n",
       "    <tr>\n",
       "      <th>1337</th>\n",
       "      <td>61</td>\n",
       "      <td>female</td>\n",
       "      <td>29.070</td>\n",
       "      <td>0</td>\n",
       "      <td>yes</td>\n",
       "      <td>northwest</td>\n",
       "      <td>29141.36030</td>\n",
       "    </tr>\n",
       "  </tbody>\n",
       "</table>\n",
       "<p>1338 rows × 7 columns</p>\n",
       "</div>"
      ],
      "text/plain": [
       "      age     sex     bmi  children smoker     region      charges\n",
       "0      19  female  27.900         0    yes  southwest  16884.92400\n",
       "1      18    male  33.770         1     no  southeast   1725.55230\n",
       "2      28    male  33.000         3     no  southeast   4449.46200\n",
       "3      33    male  22.705         0     no  northwest  21984.47061\n",
       "4      32    male  28.880         0     no  northwest   3866.85520\n",
       "...   ...     ...     ...       ...    ...        ...          ...\n",
       "1333   50    male  30.970         3     no  northwest  10600.54830\n",
       "1334   18  female  31.920         0     no  northeast   2205.98080\n",
       "1335   18  female  36.850         0     no  southeast   1629.83350\n",
       "1336   21  female  25.800         0     no  southwest   2007.94500\n",
       "1337   61  female  29.070         0    yes  northwest  29141.36030\n",
       "\n",
       "[1338 rows x 7 columns]"
      ]
     },
     "execution_count": 3,
     "metadata": {},
     "output_type": "execute_result"
    }
   ],
   "source": [
    "df"
   ]
  },
  {
   "cell_type": "code",
   "execution_count": 4,
   "metadata": {},
   "outputs": [
    {
     "data": {
      "text/plain": [
       "age         0\n",
       "sex         0\n",
       "bmi         0\n",
       "children    0\n",
       "smoker      0\n",
       "region      0\n",
       "charges     0\n",
       "dtype: int64"
      ]
     },
     "execution_count": 4,
     "metadata": {},
     "output_type": "execute_result"
    }
   ],
   "source": [
    "df.isnull().sum()"
   ]
  },
  {
   "cell_type": "code",
   "execution_count": 5,
   "metadata": {},
   "outputs": [
    {
     "data": {
      "text/plain": [
       "age           int64\n",
       "sex          object\n",
       "bmi         float64\n",
       "children      int64\n",
       "smoker       object\n",
       "region       object\n",
       "charges     float64\n",
       "dtype: object"
      ]
     },
     "execution_count": 5,
     "metadata": {},
     "output_type": "execute_result"
    }
   ],
   "source": [
    "df.dtypes"
   ]
  },
  {
   "cell_type": "code",
   "execution_count": 6,
   "metadata": {},
   "outputs": [],
   "source": [
    "numerical = ['age', 'bmi', 'children', 'charges']\n",
    "categorical = ['sex', 'smoker', 'region']"
   ]
  },
  {
   "cell_type": "code",
   "execution_count": 7,
   "metadata": {},
   "outputs": [],
   "source": [
    "for c in categorical:\n",
    "    df[c] = df[c].astype('category')\n",
    "    df[f\"{c}_cat\"] = df[c].cat.codes"
   ]
  },
  {
   "cell_type": "code",
   "execution_count": 8,
   "metadata": {},
   "outputs": [
    {
     "data": {
      "text/plain": [
       "(1070, 268, 802, 268)"
      ]
     },
     "execution_count": 8,
     "metadata": {},
     "output_type": "execute_result"
    }
   ],
   "source": [
    "#training-test split\n",
    "\n",
    "df_full_train, df_test = train_test_split(df, test_size=0.2, random_state=5)\n",
    "df_train, df_val = train_test_split(df_full_train, test_size=0.25, random_state=5)\n",
    "\n",
    "df_train = df_train.reset_index(drop=True)\n",
    "df_val = df_val.reset_index(drop=True)\n",
    "df_test = df_test.reset_index(drop=True)\n",
    "\n",
    "len(df_full_train), len(df_test), len(df_train), len(df_val)"
   ]
  },
  {
   "cell_type": "markdown",
   "metadata": {},
   "source": [
    "#### EDA"
   ]
  },
  {
   "cell_type": "code",
   "execution_count": 9,
   "metadata": {},
   "outputs": [
    {
     "name": "stdout",
     "output_type": "stream",
     "text": [
      "sex   ['female', 'male']\n",
      "Categories (2, object): ['female', 'male']\n",
      "smoker   ['no', 'yes']\n",
      "Categories (2, object): ['no', 'yes']\n",
      "region   ['southwest', 'southeast', 'northeast', 'northwest']\n",
      "Categories (4, object): ['northeast', 'northwest', 'southeast', 'southwest']\n"
     ]
    }
   ],
   "source": [
    "for i in categorical:\n",
    "    print(i + '   ' +str(df_train[i].unique()))"
   ]
  },
  {
   "cell_type": "code",
   "execution_count": 10,
   "metadata": {},
   "outputs": [
    {
     "name": "stdout",
     "output_type": "stream",
     "text": [
      "age 64 18\n",
      "bmi 53.13 17.195\n",
      "children 5 0\n",
      "charges 60021.39897 1131.5066\n"
     ]
    }
   ],
   "source": [
    "for i in numerical:\n",
    "    print(i, df_train[i].max(), df_train[i].min())"
   ]
  },
  {
   "cell_type": "code",
   "execution_count": 11,
   "metadata": {},
   "outputs": [
    {
     "name": "stdout",
     "output_type": "stream",
     "text": [
      "<class 'pandas.core.frame.DataFrame'>\n",
      "RangeIndex: 802 entries, 0 to 801\n",
      "Data columns (total 10 columns):\n",
      " #   Column      Non-Null Count  Dtype   \n",
      "---  ------      --------------  -----   \n",
      " 0   age         802 non-null    int64   \n",
      " 1   sex         802 non-null    category\n",
      " 2   bmi         802 non-null    float64 \n",
      " 3   children    802 non-null    int64   \n",
      " 4   smoker      802 non-null    category\n",
      " 5   region      802 non-null    category\n",
      " 6   charges     802 non-null    float64 \n",
      " 7   sex_cat     802 non-null    int8    \n",
      " 8   smoker_cat  802 non-null    int8    \n",
      " 9   region_cat  802 non-null    int8    \n",
      "dtypes: category(3), float64(2), int64(2), int8(3)\n",
      "memory usage: 30.3 KB\n"
     ]
    }
   ],
   "source": [
    "df_train.info()"
   ]
  },
  {
   "cell_type": "code",
   "execution_count": 12,
   "metadata": {},
   "outputs": [
    {
     "data": {
      "text/html": [
       "<div>\n",
       "<style scoped>\n",
       "    .dataframe tbody tr th:only-of-type {\n",
       "        vertical-align: middle;\n",
       "    }\n",
       "\n",
       "    .dataframe tbody tr th {\n",
       "        vertical-align: top;\n",
       "    }\n",
       "\n",
       "    .dataframe thead th {\n",
       "        text-align: right;\n",
       "    }\n",
       "</style>\n",
       "<table border=\"1\" class=\"dataframe\">\n",
       "  <thead>\n",
       "    <tr style=\"text-align: right;\">\n",
       "      <th></th>\n",
       "      <th>age</th>\n",
       "      <th>bmi</th>\n",
       "      <th>children</th>\n",
       "      <th>charges</th>\n",
       "      <th>sex_cat</th>\n",
       "      <th>smoker_cat</th>\n",
       "      <th>region_cat</th>\n",
       "    </tr>\n",
       "  </thead>\n",
       "  <tbody>\n",
       "    <tr>\n",
       "      <th>count</th>\n",
       "      <td>802.000000</td>\n",
       "      <td>802.000000</td>\n",
       "      <td>802.000000</td>\n",
       "      <td>802.000000</td>\n",
       "      <td>802.000000</td>\n",
       "      <td>802.000000</td>\n",
       "      <td>802.000000</td>\n",
       "    </tr>\n",
       "    <tr>\n",
       "      <th>mean</th>\n",
       "      <td>39.563591</td>\n",
       "      <td>30.761789</td>\n",
       "      <td>1.142145</td>\n",
       "      <td>13301.011611</td>\n",
       "      <td>0.487531</td>\n",
       "      <td>0.198254</td>\n",
       "      <td>1.511222</td>\n",
       "    </tr>\n",
       "    <tr>\n",
       "      <th>std</th>\n",
       "      <td>13.922886</td>\n",
       "      <td>6.036577</td>\n",
       "      <td>1.207444</td>\n",
       "      <td>11898.967448</td>\n",
       "      <td>0.500156</td>\n",
       "      <td>0.398934</td>\n",
       "      <td>1.098404</td>\n",
       "    </tr>\n",
       "    <tr>\n",
       "      <th>min</th>\n",
       "      <td>18.000000</td>\n",
       "      <td>17.195000</td>\n",
       "      <td>0.000000</td>\n",
       "      <td>1131.506600</td>\n",
       "      <td>0.000000</td>\n",
       "      <td>0.000000</td>\n",
       "      <td>0.000000</td>\n",
       "    </tr>\n",
       "    <tr>\n",
       "      <th>25%</th>\n",
       "      <td>27.000000</td>\n",
       "      <td>26.336250</td>\n",
       "      <td>0.000000</td>\n",
       "      <td>4839.916763</td>\n",
       "      <td>0.000000</td>\n",
       "      <td>0.000000</td>\n",
       "      <td>1.000000</td>\n",
       "    </tr>\n",
       "    <tr>\n",
       "      <th>50%</th>\n",
       "      <td>40.000000</td>\n",
       "      <td>30.497500</td>\n",
       "      <td>1.000000</td>\n",
       "      <td>9556.297050</td>\n",
       "      <td>0.000000</td>\n",
       "      <td>0.000000</td>\n",
       "      <td>2.000000</td>\n",
       "    </tr>\n",
       "    <tr>\n",
       "      <th>75%</th>\n",
       "      <td>52.000000</td>\n",
       "      <td>34.560000</td>\n",
       "      <td>2.000000</td>\n",
       "      <td>16639.912515</td>\n",
       "      <td>1.000000</td>\n",
       "      <td>0.000000</td>\n",
       "      <td>2.000000</td>\n",
       "    </tr>\n",
       "    <tr>\n",
       "      <th>max</th>\n",
       "      <td>64.000000</td>\n",
       "      <td>53.130000</td>\n",
       "      <td>5.000000</td>\n",
       "      <td>60021.398970</td>\n",
       "      <td>1.000000</td>\n",
       "      <td>1.000000</td>\n",
       "      <td>3.000000</td>\n",
       "    </tr>\n",
       "  </tbody>\n",
       "</table>\n",
       "</div>"
      ],
      "text/plain": [
       "              age         bmi    children       charges     sex_cat  \\\n",
       "count  802.000000  802.000000  802.000000    802.000000  802.000000   \n",
       "mean    39.563591   30.761789    1.142145  13301.011611    0.487531   \n",
       "std     13.922886    6.036577    1.207444  11898.967448    0.500156   \n",
       "min     18.000000   17.195000    0.000000   1131.506600    0.000000   \n",
       "25%     27.000000   26.336250    0.000000   4839.916763    0.000000   \n",
       "50%     40.000000   30.497500    1.000000   9556.297050    0.000000   \n",
       "75%     52.000000   34.560000    2.000000  16639.912515    1.000000   \n",
       "max     64.000000   53.130000    5.000000  60021.398970    1.000000   \n",
       "\n",
       "       smoker_cat  region_cat  \n",
       "count  802.000000  802.000000  \n",
       "mean     0.198254    1.511222  \n",
       "std      0.398934    1.098404  \n",
       "min      0.000000    0.000000  \n",
       "25%      0.000000    1.000000  \n",
       "50%      0.000000    2.000000  \n",
       "75%      0.000000    2.000000  \n",
       "max      1.000000    3.000000  "
      ]
     },
     "execution_count": 12,
     "metadata": {},
     "output_type": "execute_result"
    }
   ],
   "source": [
    "df_train.describe()"
   ]
  },
  {
   "cell_type": "code",
   "execution_count": 13,
   "metadata": {},
   "outputs": [
    {
     "data": {
      "text/plain": [
       "<Axes: xlabel='charges', ylabel='Count'>"
      ]
     },
     "execution_count": 13,
     "metadata": {},
     "output_type": "execute_result"
    },
    {
     "data": {
      "image/png": "[encoded data removed]",
      "text/plain": [
       "<Figure size 432x288 with 1 Axes>"
      ]
     },
     "metadata": {
      "needs_background": "light"
     },
     "output_type": "display_data"
    }
   ],
   "source": [
    "sns.histplot(df_train.charges, bins=50)\n"
   ]
  },
  {
   "cell_type": "code",
   "execution_count": 14,
   "metadata": {},
   "outputs": [
    {
     "data": {
      "text/plain": [
       "<Axes: xlabel='charges', ylabel='Count'>"
      ]
     },
     "execution_count": 14,
     "metadata": {},
     "output_type": "execute_result"
    },
    {
     "data": {
      "image/png": "[encoded data removed]",
      "text/plain": [
       "<Figure size 432x288 with 1 Axes>"
      ]
     },
     "metadata": {
      "needs_background": "light"
     },
     "output_type": "display_data"
    }
   ],
   "source": [
    "charges_logs = np.log1p(df_train.charges)\n",
    "\n",
    "sns.histplot(charges_logs, bins=50)"
   ]
  },
  {
   "cell_type": "code",
   "execution_count": 15,
   "metadata": {},
   "outputs": [
    {
     "data": {
      "image/png": "[encoded data removed]",
      "text/plain": [
       "<Figure size 864x576 with 4 Axes>"
      ]
     },
     "metadata": {
      "needs_background": "light"
     },
     "output_type": "display_data"
    }
   ],
   "source": [
    "# histograms to show distribution of numerical fields\n",
    "\n",
    "plt.figure(figsize=(12, 8))\n",
    "plot = 1\n",
    "for i in numerical : #  Age distribution\n",
    "    plt.subplot(2, 2, plot)\n",
    "    sns.histplot(data=df_train, x=i, bins=20, kde=True)\n",
    "    plt.title(f'Distribution of {i}')\n",
    "    plot += 1\n",
    "\n",
    "plt.tight_layout()\n",
    "plt.show()"
   ]
  },
  {
   "cell_type": "code",
   "execution_count": 16,
   "metadata": {},
   "outputs": [
    {
     "data": {
      "image/png": "[encoded data removed]",
      "text/plain": [
       "<Figure size 1080x360 with 3 Axes>"
      ]
     },
     "metadata": {
      "needs_background": "light"
     },
     "output_type": "display_data"
    }
   ],
   "source": [
    "# plots to show distribution of categorical variables\n",
    "plt.figure(figsize=(12, 20))\n",
    "plot = 1\n",
    "for c in categorical:\n",
    "    plt.subplot(1, 3, plot)\n",
    "    data = df[c].value_counts()\n",
    "    data.plot(kind='bar',figsize=(15,5),xlabel = '')\n",
    "    plt.title(f'Distribution of {c}')\n",
    "    plot += 1\n",
    "#plt.tight_layout()\n",
    "plt.show()"
   ]
  },
  {
   "cell_type": "code",
   "execution_count": 17,
   "metadata": {},
   "outputs": [
    {
     "data": {
      "image/png": "[encoded data removed]",
      "text/plain": [
       "<Figure size 576x360 with 2 Axes>"
      ]
     },
     "metadata": {
      "needs_background": "light"
     },
     "output_type": "display_data"
    }
   ],
   "source": [
    "df_corr = df_train[['age','bmi', 'children', 'charges',\n",
    "       'sex_cat', 'smoker_cat', 'region_cat']]\n",
    "corr_matrix = df_corr.corr()\n",
    "plt.figure(figsize=(8, 5))\n",
    "sns.heatmap(corr_matrix, annot=True, cmap='rocket_r')\n",
    "plt.title('Correlation with target variable')\n",
    "plt.show()"
   ]
  },
  {
   "cell_type": "code",
   "execution_count": 22,
   "metadata": {},
   "outputs": [],
   "source": [
    "df_columns = ['age', 'bmi', 'children', 'charges',\n",
    "       'sex_cat', 'smoker_cat', 'region_cat']"
   ]
  },
  {
   "cell_type": "code",
   "execution_count": 24,
   "metadata": {},
   "outputs": [
    {
     "data": {
      "image/png": "[encoded data removed]",
      "text/plain": [
       "<Figure size 864x1080 with 7 Axes>"
      ]
     },
     "metadata": {
      "needs_background": "light"
     },
     "output_type": "display_data"
    }
   ],
   "source": [
    "plt.figure(figsize=(12, 15))\n",
    "plot = 1\n",
    "for x in df_columns:\n",
    "    plt.subplot(3, 3, plot)\n",
    "    #data = df[x].value_counts()\n",
    "    sns.residplot(data=df_train, x=x, y=\"charges\")\n",
    "    plt.title(f'Residuals {x}')\n",
    "    plot += 1\n",
    "#plt.tight_layout()\n",
    "plt.show()\n"
   ]
  },
  {
   "cell_type": "markdown",
   "metadata": {},
   "source": [
    "####  Train a linear regression model"
   ]
  },
  {
   "cell_type": "markdown",
   "metadata": {},
   "source": [
    "- prepare the y data using log1\n",
    "- train linear regression model\n",
    "- validate first model\n",
    "- test regularization using different values of r and compare performance"
   ]
  },
  {
   "cell_type": "code",
   "execution_count": 25,
   "metadata": {},
   "outputs": [],
   "source": [
    "y_train = np.log1p(df_train.charges.values)\n",
    "y_val = np.log1p(df_val.charges.values)\n",
    "\n",
    "X_train = np.array(df_train[['age','bmi', 'children',\n",
    "        'sex_cat','smoker_cat','region_cat']])\n",
    "X_val = np.array(df_val[['age','bmi', 'children',\n",
    "        'sex_cat','smoker_cat','region_cat']])\n"
   ]
  },
  {
   "cell_type": "code",
   "execution_count": 26,
   "metadata": {},
   "outputs": [
    {
     "data": {
      "text/plain": [
       "array([[38.   , 34.8  ,  2.   ,  0.   ,  0.   ,  3.   ],\n",
       "       [43.   , 32.6  ,  2.   ,  1.   ,  0.   ,  3.   ],\n",
       "       [39.   , 34.1  ,  2.   ,  1.   ,  0.   ,  2.   ],\n",
       "       ...,\n",
       "       [63.   , 37.7  ,  0.   ,  0.   ,  1.   ,  3.   ],\n",
       "       [35.   , 34.105,  3.   ,  0.   ,  1.   ,  1.   ],\n",
       "       [27.   , 17.955,  2.   ,  0.   ,  1.   ,  0.   ]])"
      ]
     },
     "execution_count": 26,
     "metadata": {},
     "output_type": "execute_result"
    }
   ],
   "source": [
    "X_train"
   ]
  },
  {
   "cell_type": "code",
   "execution_count": 27,
   "metadata": {},
   "outputs": [],
   "source": [
    "def train_linear_regression(X, y):\n",
    "    ones = np.ones(X.shape[0])\n",
    "    X = np.column_stack([ones, X])\n",
    "\n",
    "    XTX = X.T.dot(X)\n",
    "    XTX_inv = np.linalg.inv(XTX)\n",
    "    w_full = XTX_inv.dot(X.T).dot(y)\n",
    "    \n",
    "    return w_full[0], w_full[1:]\n"
   ]
  },
  {
   "cell_type": "code",
   "execution_count": 28,
   "metadata": {},
   "outputs": [
    {
     "data": {
      "text/plain": [
       "(7.018276116376125,\n",
       " array([ 0.03414809,  0.01411772,  0.10086859, -0.07507641,  1.54600825,\n",
       "        -0.05111794]))"
      ]
     },
     "execution_count": 28,
     "metadata": {},
     "output_type": "execute_result"
    }
   ],
   "source": [
    "train_linear_regression(X_train, y_train)"
   ]
  },
  {
   "cell_type": "code",
   "execution_count": 29,
   "metadata": {},
   "outputs": [],
   "source": [
    "w0, w = train_linear_regression(X_train, y_train)"
   ]
  },
  {
   "cell_type": "code",
   "execution_count": 30,
   "metadata": {},
   "outputs": [
    {
     "data": {
      "text/plain": [
       "7.018276116376125"
      ]
     },
     "execution_count": 30,
     "metadata": {},
     "output_type": "execute_result"
    }
   ],
   "source": [
    "w0"
   ]
  },
  {
   "cell_type": "code",
   "execution_count": 31,
   "metadata": {},
   "outputs": [
    {
     "data": {
      "text/plain": [
       "array([ 0.03414809,  0.01411772,  0.10086859, -0.07507641,  1.54600825,\n",
       "       -0.05111794])"
      ]
     },
     "execution_count": 31,
     "metadata": {},
     "output_type": "execute_result"
    }
   ],
   "source": [
    "w"
   ]
  },
  {
   "cell_type": "code",
   "execution_count": 32,
   "metadata": {},
   "outputs": [
    {
     "data": {
      "text/plain": [
       "array([ 8.85558322,  8.92018826,  8.85589043,  9.08563545,  7.97113525,\n",
       "        8.41863394,  8.66815743,  7.98701396,  8.74661124,  9.60528187,\n",
       "        9.28430974,  9.21021253,  8.56560059,  8.14388075,  9.19016911,\n",
       "        8.28154996,  9.1686253 ,  9.10733977,  9.33091996,  9.43307689,\n",
       "        9.61705747,  8.33802088,  9.41417   , 10.14165568, 10.58265461,\n",
       "        8.48948718,  9.87309126,  9.18902624,  9.3749986 ,  9.1452781 ,\n",
       "        8.29589623, 10.10237609,  7.93444384,  9.77020699,  9.11209063,\n",
       "        9.264993  ,  8.06420678,  8.85356197,  8.79928897,  8.82124953,\n",
       "        9.23293459,  9.02048129,  9.61087307,  8.49348304,  9.097364  ,\n",
       "        8.97454113,  9.02783709,  8.93975441,  9.47596425,  8.39031611,\n",
       "        7.99446899,  9.81179802, 10.27775355,  7.92430891,  9.776791  ,\n",
       "        8.55219849,  9.30606684,  9.58760744,  9.92943151,  8.44342358,\n",
       "        8.43702648,  9.01735267,  8.03956079,  7.92173789, 10.09568351,\n",
       "       10.69577894,  8.51073993,  8.4786557 ,  8.91994727,  9.22018355,\n",
       "        9.08697663,  7.9417023 ,  8.57585493,  9.68513439,  9.305661  ,\n",
       "        9.2091463 ,  8.06326646,  9.01870596,  9.16666616,  9.48830265,\n",
       "        8.83140303,  8.77329931,  9.37432944,  8.34737209, 10.28479466,\n",
       "        9.18356797,  8.16514719,  8.846245  ,  9.9890049 ,  9.85233573,\n",
       "        8.62782953,  9.31866614,  7.97329615,  9.96257833,  9.47172954,\n",
       "        8.28964955,  9.96614353,  8.59339569,  8.06957897,  9.67293467,\n",
       "        8.19065861,  8.4249465 ,  8.06090126,  8.47900638,  8.88845793,\n",
       "        8.01825236,  9.26168371,  8.75639197,  9.2408477 ,  8.06929164,\n",
       "        8.81298225,  9.63285437,  7.94626915,  8.75030676,  9.41984355,\n",
       "        9.51439396,  9.46238454, 10.58121859, 10.45990453,  9.64989855,\n",
       "        9.27920216,  9.91295484,  9.42448561,  8.02046921,  9.57775487,\n",
       "        8.05809666,  8.18679861,  9.06283913,  9.2386308 ,  7.92264932,\n",
       "        9.12896004,  8.57222602,  8.81299061,  8.04582763,  8.51446586,\n",
       "        9.01584414,  9.45830216,  9.56581478,  8.64938776,  8.44353153,\n",
       "        9.36515757,  8.98124704,  8.79867763,  9.30189252, 10.46646207,\n",
       "        9.5754696 ,  9.50974818,  9.53755166, 11.02166434, 10.05409125,\n",
       "        7.88572307,  9.41246379,  8.82327257, 11.20849546,  8.00254219,\n",
       "        8.89936808,  7.78767305,  8.18530575,  8.45946177, 10.99594021,\n",
       "        7.72524913,  9.48586404,  9.19274013,  9.63963277,  9.062887  ,\n",
       "        8.04468483,  8.85995819, 10.36772199,  7.95924066, 10.73039594,\n",
       "        9.220779  ,  9.25345101,  9.59695183,  7.99483374,  8.91060715,\n",
       "        9.00127125,  9.24750195,  8.27567433,  9.34607509,  9.60933194,\n",
       "       11.14599971,  8.84450516,  9.23463363,  8.51189484,  9.89662588,\n",
       "        8.33433846,  9.33132547,  9.61756928,  9.19599784, 11.02906089,\n",
       "        8.56807215,  9.23627402,  9.09399136,  9.0225178 ,  9.88039642,\n",
       "        9.20107429,  9.5141679 , 10.60885235,  7.97134458,  9.42218376,\n",
       "        8.62820803,  8.16677915,  8.33148966, 10.32843497,  7.92617281,\n",
       "        8.55486864,  8.70596307,  8.78402538, 10.34126653,  9.28128681,\n",
       "        9.04181922,  9.33024144,  8.4587951 ,  9.57823243,  9.51299774,\n",
       "        9.4897648 ,  9.75053675,  8.21402313, 10.56556721,  8.92886817,\n",
       "        9.24646613,  9.50002249,  9.04270709,  9.13907445,  8.72804977,\n",
       "        8.29260038,  9.40720322,  9.44635031,  8.39254012,  8.58574456,\n",
       "        9.06724291,  9.85478706,  9.12651562,  9.55712244, 10.74398713,\n",
       "        8.8677708 , 10.02517479,  8.16414222, 11.00324564,  7.96022013,\n",
       "        9.62472612, 11.23217129,  8.04562429,  9.04733728,  9.54722484,\n",
       "        8.8325437 ,  9.4627614 ,  8.32568929,  9.35352628,  8.20918486,\n",
       "        7.97820876,  8.52739076,  9.6082765 ,  9.50315704,  9.12710796,\n",
       "        7.86244349,  9.58341254,  8.75404328,  9.08109547,  9.56165257,\n",
       "       10.16248614, 10.51737883,  9.47255987, 10.22951544,  8.31250478,\n",
       "        8.45539285,  9.35162603,  9.55707706,  9.41985445,  8.82954749,\n",
       "        8.73936298,  8.96010059, 10.52918418, 11.10723919, 10.61260648,\n",
       "        8.24681665, 10.69150529,  8.24954129,  9.47616694,  7.86009693,\n",
       "        9.26606323,  8.80453054,  9.15498954,  8.95673042,  8.51581417,\n",
       "        9.35733687,  9.59181404,  9.00286546, 10.42806653, 10.32291725,\n",
       "        9.57429038,  8.98166842,  9.21766627,  9.16051071,  7.93704346,\n",
       "        8.58798436,  8.21851781,  8.79233703, 10.27466353, 10.56859415,\n",
       "        8.97906383,  8.0928732 ,  8.16461701,  9.71111689,  8.91098785,\n",
       "        9.46946381, 10.85162042,  9.14694838,  8.11043262,  8.0860426 ,\n",
       "        8.45223224,  7.99875313,  8.03643217,  8.53789913,  8.28373108,\n",
       "       11.17445539,  9.34439775, 11.24002969,  8.51648778,  9.18331082,\n",
       "        9.41686791,  8.93342534, 10.05844355,  9.26521997,  8.69019413,\n",
       "        8.76230553,  9.37600091,  8.89086885,  7.90595588,  8.2625722 ,\n",
       "        9.68917688,  8.82487096,  9.48558795,  9.18499314,  8.63319777,\n",
       "        9.01673631,  8.20325045,  8.52791444,  9.31172574,  9.05045403,\n",
       "        9.98883603,  8.40081108,  8.25746745,  9.58607128,  9.62627907,\n",
       "        9.04831336,  9.06700261, 10.26230681,  8.93374009, 10.6264285 ,\n",
       "        9.0468982 ,  8.48959105,  9.22619885,  8.92482219,  7.97114118,\n",
       "        7.93383216, 11.00112924, 11.21858755,  9.27855381, 10.9545302 ,\n",
       "        8.27611368,  9.39050046,  8.13472696,  8.82982736,  9.00181725,\n",
       "       10.19360518, 10.06269937,  8.57401001,  9.0604845 , 11.13150385,\n",
       "        8.23268215,  8.20570358,  8.96583014,  9.32394593,  8.80368134,\n",
       "        9.09340274,  8.59862305,  9.68015962,  9.06701719,  9.2366785 ,\n",
       "        9.73346025,  8.75294708,  8.05967605,  8.24872751,  9.17395853,\n",
       "        9.22792405,  7.83458834,  8.46848755,  8.30770973,  9.49907472,\n",
       "        9.2763668 ,  9.90374973,  8.00063042,  8.15802397,  9.47436307,\n",
       "        8.52613066,  8.82591431,  8.95584607,  8.00444934,  8.67429614,\n",
       "        8.07113192,  8.84252281,  8.16613668,  9.38517833,  9.09276992,\n",
       "        9.53551805,  9.45610431,  9.31512361,  7.82421308, 10.16905217,\n",
       "       10.21505659,  8.12543477,  8.75097586, 10.44534773,  9.52047765,\n",
       "        8.32450855,  8.86407961,  8.62001601, 10.78592795,  9.32938844,\n",
       "        9.54957353,  8.04788154,  8.71468468,  9.46284658,  8.44764743,\n",
       "        8.96818725, 10.84780033,  9.15751271,  8.45852614,  8.90150626,\n",
       "        8.98843188,  9.46425557,  8.48858383,  9.03580614,  8.3706281 ,\n",
       "        8.56129102,  8.1122095 ,  8.73734452,  8.98473481,  8.88998822,\n",
       "        8.59741801, 10.06912413,  8.61370842,  9.76244321,  9.04072462,\n",
       "       10.4579784 ,  8.64327074, 10.79666431,  8.11242594,  7.92669056,\n",
       "        9.9880204 ,  8.3209493 ,  9.35585079,  8.74780876,  8.5154336 ,\n",
       "        9.05820792,  8.41720448,  9.91145817, 10.60216785, 10.63893829,\n",
       "        9.44308368,  9.57269301, 10.91567291, 10.74202744, 10.54353514,\n",
       "        9.30664433,  8.63923262,  9.00831146,  9.57731108,  9.31755228,\n",
       "        8.9263475 , 10.69269474,  8.82634711,  9.77456978,  9.50624022,\n",
       "       11.22768221,  8.4448618 ,  9.31280764,  8.20209615,  8.31288535,\n",
       "        8.88092422,  9.67353394,  9.1110309 ,  8.45340054,  9.76445106,\n",
       "        9.04547338,  9.38333399,  8.58126537,  8.19750536,  8.65227037,\n",
       "        9.48865407,  9.31319725,  8.8647569 ,  8.44847861,  9.49009941,\n",
       "        8.79851525,  9.45409951, 10.1680294 , 10.00737471,  9.77010128,\n",
       "        9.14975508,  8.06330003,  9.89341396,  8.35047211,  8.35385544,\n",
       "        7.93842663,  8.27871177,  8.35960289,  8.24956989,  8.54290346,\n",
       "        9.91301706,  9.23932956,  8.73526788,  8.77962617,  8.05560836,\n",
       "        9.0954367 ,  8.48815068, 10.49188086,  9.32363968,  8.54872523,\n",
       "        9.1390067 ,  9.20058604,  8.64873009,  9.61269124,  9.05679331,\n",
       "        9.24990445,  9.24551269,  8.05918069,  8.55874265,  7.97019025,\n",
       "        9.41914354,  8.40424975,  9.37415837,  8.93833914,  7.84383794,\n",
       "        9.27443729,  9.09009469,  8.0628323 ,  8.74146511,  9.5271354 ,\n",
       "        9.36969332, 10.89951532,  9.02135571,  9.85865205, 11.29376154,\n",
       "        9.10247153, 10.910857  ,  8.3214468 ,  8.66033639,  9.13845594,\n",
       "        9.92660109,  8.32493679,  9.31247984,  8.40071038, 10.10692235,\n",
       "        8.07050504,  8.12871389,  9.39578091,  8.56077079, 10.57458789,\n",
       "       10.50540301,  8.97287476,  8.05840635, 10.41870808,  9.77335239,\n",
       "        7.9727563 ,  9.00170694,  9.15238613,  9.40903411,  8.55852716,\n",
       "        8.83057553, 10.19383215, 10.97209224, 10.94980421,  8.93121686,\n",
       "        9.47737602,  9.22694418,  9.63245262,  8.0652426 ,  9.40933924,\n",
       "        9.47673419, 10.87678325,  8.1424127 , 10.02906468,  9.2710826 ,\n",
       "        8.099085  ,  9.88991436,  8.02779363,  9.40968093,  8.79403556,\n",
       "        9.40630139, 10.13329484,  9.56913499,  8.74632889,  9.74732883,\n",
       "       11.01355412,  7.86097259,  8.79276526,  8.73051178,  8.92959554,\n",
       "        9.22840856,  8.12715755,  8.06897695,  8.63084128, 10.76666291,\n",
       "        9.45156793,  9.50503524,  9.15253794,  8.93802316,  9.58970268,\n",
       "        8.07463088,  9.191199  , 10.55199955, 10.26750674,  8.4838901 ,\n",
       "        8.9759915 ,  8.14639121,  7.76503125, 11.26185925,  9.84932345,\n",
       "        9.07898866, 10.54815013,  9.36402471,  9.10933394,  9.40165845,\n",
       "        8.97848945,  8.13309874,  9.46769044,  9.15931907, 10.66793742,\n",
       "        9.32360514, 10.68314917,  9.00268211,  8.00353672,  8.39960734,\n",
       "        8.75713137,  8.56766541,  9.03569853,  9.63193326,  8.14439789,\n",
       "        8.33443046,  9.24682744,  7.8811373 , 10.09296012, 10.34432451,\n",
       "        8.7954548 ,  8.23958926,  9.0169518 ,  8.55396031,  8.03366926,\n",
       "        9.91197033,  8.06286559,  8.62030307,  8.14622447,  8.56095955,\n",
       "        8.06077902,  8.04314527,  8.49848641,  9.27298097,  9.22923781,\n",
       "       10.51880151,  9.57829966,  9.41600282,  9.26625585,  9.98426704,\n",
       "        8.00408803, 10.86185803,  8.94297994,  9.93171467,  8.94798179,\n",
       "        9.07087661,  8.44818444,  8.77161948,  9.79036769,  8.74959365,\n",
       "        8.99463282,  9.16940019,  9.45362843, 10.82933846,  8.23816443,\n",
       "       10.48422174,  9.29377262,  8.5119244 , 11.00660163,  9.86305093,\n",
       "        9.02458504, 10.57108402, 10.47112685,  8.18855277,  8.63306435,\n",
       "        8.58010612,  9.42143006,  8.47403297,  9.17365732,  9.6651818 ,\n",
       "        8.95301066,  8.75718868,  8.48301072,  8.85654382,  9.0715803 ,\n",
       "        9.85096508,  8.66389193,  8.90314533,  8.56777336,  9.51264731,\n",
       "        9.49967051,  9.38581889,  9.41824238,  9.14451351, 10.82516157,\n",
       "        9.28272226,  7.97167013,  9.60862381,  8.28411262,  7.88574579,\n",
       "        9.77622512,  9.48872577,  8.90392899,  9.45081175,  9.12122521,\n",
       "       10.3490969 ,  8.91203238,  8.81608221,  8.98071749,  8.04657019,\n",
       "        8.76114377,  9.62479826,  9.10043384,  8.143924  ,  9.46112695,\n",
       "        8.46681237,  9.53847405,  9.61938654,  8.73038145,  8.70547957,\n",
       "        9.42921876,  8.35805339,  9.01966677,  9.21654161,  8.46413752,\n",
       "        8.53206853,  8.92575136,  8.82045283,  9.45927551,  9.53754111,\n",
       "        9.70169536,  8.04559037,  9.18831419,  8.40162485,  7.88426592,\n",
       "        9.14317232,  8.10101451,  8.37908569,  8.55793164,  9.00944801,\n",
       "       11.27008951, 10.90788647,  9.04114227,  8.82771468,  7.71819027,\n",
       "        9.41900856,  8.6209408 ,  8.85373332,  9.25953468,  8.42802968,\n",
       "        8.48197924,  9.36289535,  9.33694735,  9.28049451,  8.35044447,\n",
       "        9.40404842,  7.96485038, 10.23845408,  8.94428998,  8.04249782,\n",
       "        9.13439329,  9.52498938,  8.40600078,  8.47091741,  8.99206512,\n",
       "        9.21579739,  8.48657993,  8.65715619,  7.86783805,  9.5699534 ,\n",
       "        8.12755207,  8.691845  , 10.75348303,  9.08366649,  8.99388737,\n",
       "        8.46167867,  7.933862  ,  8.5937664 ,  8.06488655,  9.31123293,\n",
       "        8.07831143,  7.99600515,  9.29112259,  9.23040522, 11.09449781,\n",
       "       10.49243986,  9.94150343])"
      ]
     },
     "execution_count": 32,
     "metadata": {},
     "output_type": "execute_result"
    }
   ],
   "source": [
    "y_pred = w0 + X_train.dot(w)\n",
    "y_pred"
   ]
  },
  {
   "cell_type": "code",
   "execution_count": 33,
   "metadata": {},
   "outputs": [],
   "source": [
    "def rmse(y, y_pred):\n",
    "    se = (y - y_pred) ** 2\n",
    "    mse = se.mean()\n",
    "    return np.sqrt(mse)"
   ]
  },
  {
   "cell_type": "code",
   "execution_count": 34,
   "metadata": {},
   "outputs": [
    {
     "data": {
      "text/plain": [
       "0.448"
      ]
     },
     "execution_count": 34,
     "metadata": {},
     "output_type": "execute_result"
    }
   ],
   "source": [
    "rmse(y_train, y_pred).round(4)"
   ]
  },
  {
   "cell_type": "code",
   "execution_count": 35,
   "metadata": {},
   "outputs": [
    {
     "data": {
      "text/plain": [
       "<Axes: ylabel='Count'>"
      ]
     },
     "execution_count": 35,
     "metadata": {},
     "output_type": "execute_result"
    },
    {
     "data": {
      "image/png": "[encoded data removed]",
      "text/plain": [
       "<Figure size 432x288 with 1 Axes>"
      ]
     },
     "metadata": {
      "needs_background": "light"
     },
     "output_type": "display_data"
    }
   ],
   "source": [
    "\n",
    "\n",
    "sns.histplot(y_pred, color='red', alpha=0.5, bins=50)\n",
    "sns.histplot(y_train, color='blue', alpha=0.5, bins=50)\n",
    "\n"
   ]
  },
  {
   "cell_type": "code",
   "execution_count": 36,
   "metadata": {},
   "outputs": [],
   "source": [
    "def train_linear_regression_reg(X, y, r=0.001):\n",
    "    ones = np.ones(X.shape[0])\n",
    "    X = np.column_stack([ones, X])\n",
    "\n",
    "    XTX = X.T.dot(X)\n",
    "    XTX = XTX + r * np.eye(XTX.shape[0])\n",
    "\n",
    "    XTX_inv = np.linalg.inv(XTX)\n",
    "    w_full = XTX_inv.dot(X.T).dot(y)\n",
    "    \n",
    "    return w_full[0], w_full[1:]"
   ]
  },
  {
   "cell_type": "code",
   "execution_count": 37,
   "metadata": {},
   "outputs": [
    {
     "name": "stdout",
     "output_type": "stream",
     "text": [
      "RMSE = 0.46  r = 0\n",
      "RMSE = 0.46  r = 1e-06\n",
      "RMSE = 0.46  r = 0.0001\n",
      "RMSE = 0.46  r = 0.001\n",
      "RMSE = 0.46  r = 0.01\n",
      "RMSE = 0.46  r = 0.1\n",
      "RMSE = 0.47  r = 1\n",
      "RMSE = 0.53  r = 5\n",
      "RMSE = 0.62  r = 10\n"
     ]
    }
   ],
   "source": [
    "r = [0, 0.000001, 0.0001, 0.001, 0.01, 0.1, 1, 5, 10]\n",
    "Scores = []\n",
    "for i in r:    \n",
    "    w0, w = train_linear_regression_reg(X_train, y_train, i)\n",
    "\n",
    "    y_pred = w0 + X_val.dot(w)\n",
    "    Error = rmse(y_val, y_pred).round(2)\n",
    "    Scores.append(Error)\n",
    "    print('RMSE = ' + str(Error) + '  r = ' + str(i))"
   ]
  },
  {
   "cell_type": "code",
   "execution_count": 38,
   "metadata": {},
   "outputs": [
    {
     "data": {
      "text/html": [
       "<div>\n",
       "<style scoped>\n",
       "    .dataframe tbody tr th:only-of-type {\n",
       "        vertical-align: middle;\n",
       "    }\n",
       "\n",
       "    .dataframe tbody tr th {\n",
       "        vertical-align: top;\n",
       "    }\n",
       "\n",
       "    .dataframe thead th {\n",
       "        text-align: right;\n",
       "    }\n",
       "</style>\n",
       "<table border=\"1\" class=\"dataframe\">\n",
       "  <thead>\n",
       "    <tr style=\"text-align: right;\">\n",
       "      <th></th>\n",
       "      <th>age</th>\n",
       "      <th>sex</th>\n",
       "      <th>bmi</th>\n",
       "      <th>children</th>\n",
       "      <th>smoker</th>\n",
       "      <th>region</th>\n",
       "      <th>charges</th>\n",
       "      <th>sex_cat</th>\n",
       "      <th>smoker_cat</th>\n",
       "      <th>region_cat</th>\n",
       "    </tr>\n",
       "  </thead>\n",
       "  <tbody>\n",
       "    <tr>\n",
       "      <th>0</th>\n",
       "      <td>38</td>\n",
       "      <td>female</td>\n",
       "      <td>34.800</td>\n",
       "      <td>2</td>\n",
       "      <td>no</td>\n",
       "      <td>southwest</td>\n",
       "      <td>6571.54400</td>\n",
       "      <td>0</td>\n",
       "      <td>0</td>\n",
       "      <td>3</td>\n",
       "    </tr>\n",
       "    <tr>\n",
       "      <th>1</th>\n",
       "      <td>43</td>\n",
       "      <td>male</td>\n",
       "      <td>32.600</td>\n",
       "      <td>2</td>\n",
       "      <td>no</td>\n",
       "      <td>southwest</td>\n",
       "      <td>7441.50100</td>\n",
       "      <td>1</td>\n",
       "      <td>0</td>\n",
       "      <td>3</td>\n",
       "    </tr>\n",
       "    <tr>\n",
       "      <th>2</th>\n",
       "      <td>39</td>\n",
       "      <td>male</td>\n",
       "      <td>34.100</td>\n",
       "      <td>2</td>\n",
       "      <td>no</td>\n",
       "      <td>southeast</td>\n",
       "      <td>23563.01618</td>\n",
       "      <td>1</td>\n",
       "      <td>0</td>\n",
       "      <td>2</td>\n",
       "    </tr>\n",
       "    <tr>\n",
       "      <th>3</th>\n",
       "      <td>46</td>\n",
       "      <td>male</td>\n",
       "      <td>33.345</td>\n",
       "      <td>1</td>\n",
       "      <td>no</td>\n",
       "      <td>northeast</td>\n",
       "      <td>8334.45755</td>\n",
       "      <td>1</td>\n",
       "      <td>0</td>\n",
       "      <td>0</td>\n",
       "    </tr>\n",
       "    <tr>\n",
       "      <th>4</th>\n",
       "      <td>18</td>\n",
       "      <td>male</td>\n",
       "      <td>29.370</td>\n",
       "      <td>1</td>\n",
       "      <td>no</td>\n",
       "      <td>southeast</td>\n",
       "      <td>1719.43630</td>\n",
       "      <td>1</td>\n",
       "      <td>0</td>\n",
       "      <td>2</td>\n",
       "    </tr>\n",
       "    <tr>\n",
       "      <th>...</th>\n",
       "      <td>...</td>\n",
       "      <td>...</td>\n",
       "      <td>...</td>\n",
       "      <td>...</td>\n",
       "      <td>...</td>\n",
       "      <td>...</td>\n",
       "      <td>...</td>\n",
       "      <td>...</td>\n",
       "      <td>...</td>\n",
       "      <td>...</td>\n",
       "    </tr>\n",
       "    <tr>\n",
       "      <th>797</th>\n",
       "      <td>51</td>\n",
       "      <td>female</td>\n",
       "      <td>37.730</td>\n",
       "      <td>1</td>\n",
       "      <td>no</td>\n",
       "      <td>southeast</td>\n",
       "      <td>9877.60770</td>\n",
       "      <td>0</td>\n",
       "      <td>0</td>\n",
       "      <td>2</td>\n",
       "    </tr>\n",
       "    <tr>\n",
       "      <th>798</th>\n",
       "      <td>55</td>\n",
       "      <td>male</td>\n",
       "      <td>28.975</td>\n",
       "      <td>0</td>\n",
       "      <td>no</td>\n",
       "      <td>northeast</td>\n",
       "      <td>10796.35025</td>\n",
       "      <td>1</td>\n",
       "      <td>0</td>\n",
       "      <td>0</td>\n",
       "    </tr>\n",
       "    <tr>\n",
       "      <th>799</th>\n",
       "      <td>63</td>\n",
       "      <td>female</td>\n",
       "      <td>37.700</td>\n",
       "      <td>0</td>\n",
       "      <td>yes</td>\n",
       "      <td>southwest</td>\n",
       "      <td>48824.45000</td>\n",
       "      <td>0</td>\n",
       "      <td>1</td>\n",
       "      <td>3</td>\n",
       "    </tr>\n",
       "    <tr>\n",
       "      <th>800</th>\n",
       "      <td>35</td>\n",
       "      <td>female</td>\n",
       "      <td>34.105</td>\n",
       "      <td>3</td>\n",
       "      <td>yes</td>\n",
       "      <td>northwest</td>\n",
       "      <td>39983.42595</td>\n",
       "      <td>0</td>\n",
       "      <td>1</td>\n",
       "      <td>1</td>\n",
       "    </tr>\n",
       "    <tr>\n",
       "      <th>801</th>\n",
       "      <td>27</td>\n",
       "      <td>female</td>\n",
       "      <td>17.955</td>\n",
       "      <td>2</td>\n",
       "      <td>yes</td>\n",
       "      <td>northeast</td>\n",
       "      <td>15006.57945</td>\n",
       "      <td>0</td>\n",
       "      <td>1</td>\n",
       "      <td>0</td>\n",
       "    </tr>\n",
       "  </tbody>\n",
       "</table>\n",
       "<p>802 rows × 10 columns</p>\n",
       "</div>"
      ],
      "text/plain": [
       "     age     sex     bmi  children smoker     region      charges  sex_cat  \\\n",
       "0     38  female  34.800         2     no  southwest   6571.54400        0   \n",
       "1     43    male  32.600         2     no  southwest   7441.50100        1   \n",
       "2     39    male  34.100         2     no  southeast  23563.01618        1   \n",
       "3     46    male  33.345         1     no  northeast   8334.45755        1   \n",
       "4     18    male  29.370         1     no  southeast   1719.43630        1   \n",
       "..   ...     ...     ...       ...    ...        ...          ...      ...   \n",
       "797   51  female  37.730         1     no  southeast   9877.60770        0   \n",
       "798   55    male  28.975         0     no  northeast  10796.35025        1   \n",
       "799   63  female  37.700         0    yes  southwest  48824.45000        0   \n",
       "800   35  female  34.105         3    yes  northwest  39983.42595        0   \n",
       "801   27  female  17.955         2    yes  northeast  15006.57945        0   \n",
       "\n",
       "     smoker_cat  region_cat  \n",
       "0             0           3  \n",
       "1             0           3  \n",
       "2             0           2  \n",
       "3             0           0  \n",
       "4             0           2  \n",
       "..          ...         ...  \n",
       "797           0           2  \n",
       "798           0           0  \n",
       "799           1           3  \n",
       "800           1           1  \n",
       "801           1           0  \n",
       "\n",
       "[802 rows x 10 columns]"
      ]
     },
     "execution_count": 38,
     "metadata": {},
     "output_type": "execute_result"
    }
   ],
   "source": [
    "df_train"
   ]
  },
  {
   "cell_type": "code",
   "execution_count": 39,
   "metadata": {},
   "outputs": [
    {
     "name": "stdout",
     "output_type": "stream",
     "text": [
      "RMSE = 0.47  seed 0\n",
      "RMSE = 0.44  seed 1\n",
      "RMSE = 0.47  seed 2\n",
      "RMSE = 0.38  seed 3\n",
      "RMSE = 0.36  seed 4\n",
      "RMSE = 0.42  seed 5\n",
      "RMSE = 0.41  seed 6\n",
      "RMSE = 0.45  seed 7\n",
      "RMSE = 0.47  seed 8\n",
      "RMSE = 0.48  seed 9\n"
     ]
    }
   ],
   "source": [
    "# test stability of model with different randomization\n",
    "\n",
    "seeds = [0, 1, 2, 3, 4, 5, 6, 7, 8, 9]\n",
    "scores = []\n",
    "for i in seeds:    \n",
    "    df = pd.read_csv('insurance.csv')\n",
    "    n = len(df)\n",
    "    idx = np.arange(n)\n",
    "    np.random.seed(i)\n",
    "    np.random.shuffle(idx)\n",
    "    df = df.iloc[idx]\n",
    "    df = df.reset_index(drop=True)\n",
    "    df = df.fillna(0)\n",
    "\n",
    "    for c in categorical:\n",
    "      df[c] = df[c].astype('category')\n",
    "      df[f\"{c}_cat\"] = df[c].cat.codes\n",
    "\n",
    "    df_full_train, df_test = train_test_split(df, test_size=0.2)\n",
    "    df_train, df_val = train_test_split(df_full_train, test_size=0.25)\n",
    "\n",
    "    df_train = df_train.reset_index(drop=True)\n",
    "    df_val = df_val.reset_index(drop=True)\n",
    "    df_test = df_test.reset_index(drop=True)\n",
    "\n",
    "    X_train = np.array(df_train[['age','bmi', 'children',\n",
    "       'sex_cat', 'smoker_cat', 'region_cat']])\n",
    "    X_val = np.array(df_val[['age','bmi', 'children',\n",
    "       'sex_cat', 'smoker_cat', 'region_cat']])\n",
    "    X_test = np.array(df_test[['age','bmi', 'children',\n",
    "       'sex_cat', 'smoker_cat', 'region_cat']])\n",
    "\n",
    "    y_train = np.log1p(df_train.charges.values)\n",
    "    y_val = np.log1p(df_val.charges.values)\n",
    "    y_test = np.log1p(df_test.charges.values)\n",
    "\n",
    "    w0, w = train_linear_regression(X_train, y_train)\n",
    "\n",
    "    y_pred = w0 + X_val.dot(w)\n",
    "    error = rmse(y_val, y_pred).round(2)\n",
    "    scores.append(error)\n",
    "    print('RMSE = ' + str(error) + '  seed ' + str(i))"
   ]
  },
  {
   "cell_type": "code",
   "execution_count": 40,
   "metadata": {},
   "outputs": [
    {
     "data": {
      "text/plain": [
       "0.0393"
      ]
     },
     "execution_count": 40,
     "metadata": {},
     "output_type": "execute_result"
    }
   ],
   "source": [
    "np.std(scores).round(4)"
   ]
  },
  {
   "cell_type": "markdown",
   "metadata": {},
   "source": [
    "#### Train ridge regression and Lasso Regression"
   ]
  },
  {
   "cell_type": "code",
   "execution_count": 75,
   "metadata": {},
   "outputs": [
    {
     "data": {
      "text/html": [
       "<style>#sk-container-id-5 {color: black;}#sk-container-id-5 pre{padding: 0;}#sk-container-id-5 div.sk-toggleable {background-color: white;}#sk-container-id-5 label.sk-toggleable__label {cursor: pointer;display: block;width: 100%;margin-bottom: 0;padding: 0.3em;box-sizing: border-box;text-align: center;}#sk-container-id-5 label.sk-toggleable__label-arrow:before {content: \"▸\";float: left;margin-right: 0.25em;color: #696969;}#sk-container-id-5 label.sk-toggleable__label-arrow:hover:before {color: black;}#sk-container-id-5 div.sk-estimator:hover label.sk-toggleable__label-arrow:before {color: black;}#sk-container-id-5 div.sk-toggleable__content {max-height: 0;max-width: 0;overflow: hidden;text-align: left;background-color: #f0f8ff;}#sk-container-id-5 div.sk-toggleable__content pre {margin: 0.2em;color: black;border-radius: 0.25em;background-color: #f0f8ff;}#sk-container-id-5 input.sk-toggleable__control:checked~div.sk-toggleable__content {max-height: 200px;max-width: 100%;overflow: auto;}#sk-container-id-5 input.sk-toggleable__control:checked~label.sk-toggleable__label-arrow:before {content: \"▾\";}#sk-container-id-5 div.sk-estimator input.sk-toggleable__control:checked~label.sk-toggleable__label {background-color: #d4ebff;}#sk-container-id-5 div.sk-label input.sk-toggleable__control:checked~label.sk-toggleable__label {background-color: #d4ebff;}#sk-container-id-5 input.sk-hidden--visually {border: 0;clip: rect(1px 1px 1px 1px);clip: rect(1px, 1px, 1px, 1px);height: 1px;margin: -1px;overflow: hidden;padding: 0;position: absolute;width: 1px;}#sk-container-id-5 div.sk-estimator {font-family: monospace;background-color: #f0f8ff;border: 1px dotted black;border-radius: 0.25em;box-sizing: border-box;margin-bottom: 0.5em;}#sk-container-id-5 div.sk-estimator:hover {background-color: #d4ebff;}#sk-container-id-5 div.sk-parallel-item::after {content: \"\";width: 100%;border-bottom: 1px solid gray;flex-grow: 1;}#sk-container-id-5 div.sk-label:hover label.sk-toggleable__label {background-color: #d4ebff;}#sk-container-id-5 div.sk-serial::before {content: \"\";position: absolute;border-left: 1px solid gray;box-sizing: border-box;top: 0;bottom: 0;left: 50%;z-index: 0;}#sk-container-id-5 div.sk-serial {display: flex;flex-direction: column;align-items: center;background-color: white;padding-right: 0.2em;padding-left: 0.2em;position: relative;}#sk-container-id-5 div.sk-item {position: relative;z-index: 1;}#sk-container-id-5 div.sk-parallel {display: flex;align-items: stretch;justify-content: center;background-color: white;position: relative;}#sk-container-id-5 div.sk-item::before, #sk-container-id-5 div.sk-parallel-item::before {content: \"\";position: absolute;border-left: 1px solid gray;box-sizing: border-box;top: 0;bottom: 0;left: 50%;z-index: -1;}#sk-container-id-5 div.sk-parallel-item {display: flex;flex-direction: column;z-index: 1;position: relative;background-color: white;}#sk-container-id-5 div.sk-parallel-item:first-child::after {align-self: flex-end;width: 50%;}#sk-container-id-5 div.sk-parallel-item:last-child::after {align-self: flex-start;width: 50%;}#sk-container-id-5 div.sk-parallel-item:only-child::after {width: 0;}#sk-container-id-5 div.sk-dashed-wrapped {border: 1px dashed gray;margin: 0 0.4em 0.5em 0.4em;box-sizing: border-box;padding-bottom: 0.4em;background-color: white;}#sk-container-id-5 div.sk-label label {font-family: monospace;font-weight: bold;display: inline-block;line-height: 1.2em;}#sk-container-id-5 div.sk-label-container {text-align: center;}#sk-container-id-5 div.sk-container {/* jupyter's `normalize.less` sets `[hidden] { display: none; }` but bootstrap.min.css set `[hidden] { display: none !important; }` so we also need the `!important` here to be able to override the default hidden behavior on the sphinx rendered scikit-learn.org. See: https://github.com/scikit-learn/scikit-learn/issues/21755 */display: inline-block !important;position: relative;}#sk-container-id-5 div.sk-text-repr-fallback {display: none;}</style><div id=\"sk-container-id-5\" class=\"sk-top-container\"><div class=\"sk-text-repr-fallback\"><pre>Ridge()</pre><b>In a Jupyter environment, please rerun this cell to show the HTML representation or trust the notebook. <br />On GitHub, the HTML representation is unable to render, please try loading this page with nbviewer.org.</b></div><div class=\"sk-container\" hidden><div class=\"sk-item\"><div class=\"sk-estimator sk-toggleable\"><input class=\"sk-toggleable__control sk-hidden--visually\" id=\"sk-estimator-id-5\" type=\"checkbox\" checked><label for=\"sk-estimator-id-5\" class=\"sk-toggleable__label sk-toggleable__label-arrow\">Ridge</label><div class=\"sk-toggleable__content\"><pre>Ridge()</pre></div></div></div></div></div>"
      ],
      "text/plain": [
       "Ridge()"
      ]
     },
     "execution_count": 75,
     "metadata": {},
     "output_type": "execute_result"
    }
   ],
   "source": [
    "clf = Ridge(alpha=1.0)\n",
    "clf.fit(X_train, y_train)"
   ]
  },
  {
   "cell_type": "code",
   "execution_count": 76,
   "metadata": {},
   "outputs": [
    {
     "data": {
      "text/plain": [
       "0.48"
      ]
     },
     "execution_count": 76,
     "metadata": {},
     "output_type": "execute_result"
    }
   ],
   "source": [
    "y_pred = clf.predict(X_val)\n",
    "error = rmse(y_val, y_pred).round(2)\n",
    "error\n"
   ]
  },
  {
   "cell_type": "code",
   "execution_count": 77,
   "metadata": {},
   "outputs": [
    {
     "data": {
      "text/html": [
       "<style>#sk-container-id-6 {color: black;}#sk-container-id-6 pre{padding: 0;}#sk-container-id-6 div.sk-toggleable {background-color: white;}#sk-container-id-6 label.sk-toggleable__label {cursor: pointer;display: block;width: 100%;margin-bottom: 0;padding: 0.3em;box-sizing: border-box;text-align: center;}#sk-container-id-6 label.sk-toggleable__label-arrow:before {content: \"▸\";float: left;margin-right: 0.25em;color: #696969;}#sk-container-id-6 label.sk-toggleable__label-arrow:hover:before {color: black;}#sk-container-id-6 div.sk-estimator:hover label.sk-toggleable__label-arrow:before {color: black;}#sk-container-id-6 div.sk-toggleable__content {max-height: 0;max-width: 0;overflow: hidden;text-align: left;background-color: #f0f8ff;}#sk-container-id-6 div.sk-toggleable__content pre {margin: 0.2em;color: black;border-radius: 0.25em;background-color: #f0f8ff;}#sk-container-id-6 input.sk-toggleable__control:checked~div.sk-toggleable__content {max-height: 200px;max-width: 100%;overflow: auto;}#sk-container-id-6 input.sk-toggleable__control:checked~label.sk-toggleable__label-arrow:before {content: \"▾\";}#sk-container-id-6 div.sk-estimator input.sk-toggleable__control:checked~label.sk-toggleable__label {background-color: #d4ebff;}#sk-container-id-6 div.sk-label input.sk-toggleable__control:checked~label.sk-toggleable__label {background-color: #d4ebff;}#sk-container-id-6 input.sk-hidden--visually {border: 0;clip: rect(1px 1px 1px 1px);clip: rect(1px, 1px, 1px, 1px);height: 1px;margin: -1px;overflow: hidden;padding: 0;position: absolute;width: 1px;}#sk-container-id-6 div.sk-estimator {font-family: monospace;background-color: #f0f8ff;border: 1px dotted black;border-radius: 0.25em;box-sizing: border-box;margin-bottom: 0.5em;}#sk-container-id-6 div.sk-estimator:hover {background-color: #d4ebff;}#sk-container-id-6 div.sk-parallel-item::after {content: \"\";width: 100%;border-bottom: 1px solid gray;flex-grow: 1;}#sk-container-id-6 div.sk-label:hover label.sk-toggleable__label {background-color: #d4ebff;}#sk-container-id-6 div.sk-serial::before {content: \"\";position: absolute;border-left: 1px solid gray;box-sizing: border-box;top: 0;bottom: 0;left: 50%;z-index: 0;}#sk-container-id-6 div.sk-serial {display: flex;flex-direction: column;align-items: center;background-color: white;padding-right: 0.2em;padding-left: 0.2em;position: relative;}#sk-container-id-6 div.sk-item {position: relative;z-index: 1;}#sk-container-id-6 div.sk-parallel {display: flex;align-items: stretch;justify-content: center;background-color: white;position: relative;}#sk-container-id-6 div.sk-item::before, #sk-container-id-6 div.sk-parallel-item::before {content: \"\";position: absolute;border-left: 1px solid gray;box-sizing: border-box;top: 0;bottom: 0;left: 50%;z-index: -1;}#sk-container-id-6 div.sk-parallel-item {display: flex;flex-direction: column;z-index: 1;position: relative;background-color: white;}#sk-container-id-6 div.sk-parallel-item:first-child::after {align-self: flex-end;width: 50%;}#sk-container-id-6 div.sk-parallel-item:last-child::after {align-self: flex-start;width: 50%;}#sk-container-id-6 div.sk-parallel-item:only-child::after {width: 0;}#sk-container-id-6 div.sk-dashed-wrapped {border: 1px dashed gray;margin: 0 0.4em 0.5em 0.4em;box-sizing: border-box;padding-bottom: 0.4em;background-color: white;}#sk-container-id-6 div.sk-label label {font-family: monospace;font-weight: bold;display: inline-block;line-height: 1.2em;}#sk-container-id-6 div.sk-label-container {text-align: center;}#sk-container-id-6 div.sk-container {/* jupyter's `normalize.less` sets `[hidden] { display: none; }` but bootstrap.min.css set `[hidden] { display: none !important; }` so we also need the `!important` here to be able to override the default hidden behavior on the sphinx rendered scikit-learn.org. See: https://github.com/scikit-learn/scikit-learn/issues/21755 */display: inline-block !important;position: relative;}#sk-container-id-6 div.sk-text-repr-fallback {display: none;}</style><div id=\"sk-container-id-6\" class=\"sk-top-container\"><div class=\"sk-text-repr-fallback\"><pre>Lasso(alpha=0.1)</pre><b>In a Jupyter environment, please rerun this cell to show the HTML representation or trust the notebook. <br />On GitHub, the HTML representation is unable to render, please try loading this page with nbviewer.org.</b></div><div class=\"sk-container\" hidden><div class=\"sk-item\"><div class=\"sk-estimator sk-toggleable\"><input class=\"sk-toggleable__control sk-hidden--visually\" id=\"sk-estimator-id-6\" type=\"checkbox\" checked><label for=\"sk-estimator-id-6\" class=\"sk-toggleable__label sk-toggleable__label-arrow\">Lasso</label><div class=\"sk-toggleable__content\"><pre>Lasso(alpha=0.1)</pre></div></div></div></div></div>"
      ],
      "text/plain": [
       "Lasso(alpha=0.1)"
      ]
     },
     "execution_count": 77,
     "metadata": {},
     "output_type": "execute_result"
    }
   ],
   "source": [
    "clf = linear_model.Lasso(alpha=0.1)\n",
    "clf.fit(X_train, y_train)"
   ]
  },
  {
   "cell_type": "code",
   "execution_count": 78,
   "metadata": {},
   "outputs": [
    {
     "data": {
      "text/plain": [
       "0.55"
      ]
     },
     "execution_count": 78,
     "metadata": {},
     "output_type": "execute_result"
    }
   ],
   "source": [
    "y_pred = clf.predict(X_val)\n",
    "error = rmse(y_val, y_pred).round(2)\n",
    "error"
   ]
  },
  {
   "cell_type": "markdown",
   "metadata": {},
   "source": [
    "#### Decision Tree Regressor"
   ]
  },
  {
   "cell_type": "code",
   "execution_count": 45,
   "metadata": {},
   "outputs": [],
   "source": [
    "from sklearn.tree import DecisionTreeRegressor\n",
    "from sklearn.feature_extraction import DictVectorizer\n"
   ]
  },
  {
   "cell_type": "code",
   "execution_count": 46,
   "metadata": {},
   "outputs": [],
   "source": [
    "del df_train['charges']"
   ]
  },
  {
   "cell_type": "code",
   "execution_count": 47,
   "metadata": {},
   "outputs": [],
   "source": [
    "dv = DictVectorizer(sparse=False)\n",
    "train_dicts = df_train.to_dict(orient='records')\n",
    "X_train = dv.fit_transform(train_dicts)\n",
    "val_dicts = df_val.to_dict(orient='records')\n",
    "X_val = dv.transform(val_dicts)"
   ]
  },
  {
   "cell_type": "code",
   "execution_count": 48,
   "metadata": {},
   "outputs": [
    {
     "data": {
      "text/html": [
       "<style>#sk-container-id-3 {color: black;}#sk-container-id-3 pre{padding: 0;}#sk-container-id-3 div.sk-toggleable {background-color: white;}#sk-container-id-3 label.sk-toggleable__label {cursor: pointer;display: block;width: 100%;margin-bottom: 0;padding: 0.3em;box-sizing: border-box;text-align: center;}#sk-container-id-3 label.sk-toggleable__label-arrow:before {content: \"▸\";float: left;margin-right: 0.25em;color: #696969;}#sk-container-id-3 label.sk-toggleable__label-arrow:hover:before {color: black;}#sk-container-id-3 div.sk-estimator:hover label.sk-toggleable__label-arrow:before {color: black;}#sk-container-id-3 div.sk-toggleable__content {max-height: 0;max-width: 0;overflow: hidden;text-align: left;background-color: #f0f8ff;}#sk-container-id-3 div.sk-toggleable__content pre {margin: 0.2em;color: black;border-radius: 0.25em;background-color: #f0f8ff;}#sk-container-id-3 input.sk-toggleable__control:checked~div.sk-toggleable__content {max-height: 200px;max-width: 100%;overflow: auto;}#sk-container-id-3 input.sk-toggleable__control:checked~label.sk-toggleable__label-arrow:before {content: \"▾\";}#sk-container-id-3 div.sk-estimator input.sk-toggleable__control:checked~label.sk-toggleable__label {background-color: #d4ebff;}#sk-container-id-3 div.sk-label input.sk-toggleable__control:checked~label.sk-toggleable__label {background-color: #d4ebff;}#sk-container-id-3 input.sk-hidden--visually {border: 0;clip: rect(1px 1px 1px 1px);clip: rect(1px, 1px, 1px, 1px);height: 1px;margin: -1px;overflow: hidden;padding: 0;position: absolute;width: 1px;}#sk-container-id-3 div.sk-estimator {font-family: monospace;background-color: #f0f8ff;border: 1px dotted black;border-radius: 0.25em;box-sizing: border-box;margin-bottom: 0.5em;}#sk-container-id-3 div.sk-estimator:hover {background-color: #d4ebff;}#sk-container-id-3 div.sk-parallel-item::after {content: \"\";width: 100%;border-bottom: 1px solid gray;flex-grow: 1;}#sk-container-id-3 div.sk-label:hover label.sk-toggleable__label {background-color: #d4ebff;}#sk-container-id-3 div.sk-serial::before {content: \"\";position: absolute;border-left: 1px solid gray;box-sizing: border-box;top: 0;bottom: 0;left: 50%;z-index: 0;}#sk-container-id-3 div.sk-serial {display: flex;flex-direction: column;align-items: center;background-color: white;padding-right: 0.2em;padding-left: 0.2em;position: relative;}#sk-container-id-3 div.sk-item {position: relative;z-index: 1;}#sk-container-id-3 div.sk-parallel {display: flex;align-items: stretch;justify-content: center;background-color: white;position: relative;}#sk-container-id-3 div.sk-item::before, #sk-container-id-3 div.sk-parallel-item::before {content: \"\";position: absolute;border-left: 1px solid gray;box-sizing: border-box;top: 0;bottom: 0;left: 50%;z-index: -1;}#sk-container-id-3 div.sk-parallel-item {display: flex;flex-direction: column;z-index: 1;position: relative;background-color: white;}#sk-container-id-3 div.sk-parallel-item:first-child::after {align-self: flex-end;width: 50%;}#sk-container-id-3 div.sk-parallel-item:last-child::after {align-self: flex-start;width: 50%;}#sk-container-id-3 div.sk-parallel-item:only-child::after {width: 0;}#sk-container-id-3 div.sk-dashed-wrapped {border: 1px dashed gray;margin: 0 0.4em 0.5em 0.4em;box-sizing: border-box;padding-bottom: 0.4em;background-color: white;}#sk-container-id-3 div.sk-label label {font-family: monospace;font-weight: bold;display: inline-block;line-height: 1.2em;}#sk-container-id-3 div.sk-label-container {text-align: center;}#sk-container-id-3 div.sk-container {/* jupyter's `normalize.less` sets `[hidden] { display: none; }` but bootstrap.min.css set `[hidden] { display: none !important; }` so we also need the `!important` here to be able to override the default hidden behavior on the sphinx rendered scikit-learn.org. See: https://github.com/scikit-learn/scikit-learn/issues/21755 */display: inline-block !important;position: relative;}#sk-container-id-3 div.sk-text-repr-fallback {display: none;}</style><div id=\"sk-container-id-3\" class=\"sk-top-container\"><div class=\"sk-text-repr-fallback\"><pre>DecisionTreeRegressor(max_depth=5)</pre><b>In a Jupyter environment, please rerun this cell to show the HTML representation or trust the notebook. <br />On GitHub, the HTML representation is unable to render, please try loading this page with nbviewer.org.</b></div><div class=\"sk-container\" hidden><div class=\"sk-item\"><div class=\"sk-estimator sk-toggleable\"><input class=\"sk-toggleable__control sk-hidden--visually\" id=\"sk-estimator-id-3\" type=\"checkbox\" checked><label for=\"sk-estimator-id-3\" class=\"sk-toggleable__label sk-toggleable__label-arrow\">DecisionTreeRegressor</label><div class=\"sk-toggleable__content\"><pre>DecisionTreeRegressor(max_depth=5)</pre></div></div></div></div></div>"
      ],
      "text/plain": [
       "DecisionTreeRegressor(max_depth=5)"
      ]
     },
     "execution_count": 48,
     "metadata": {},
     "output_type": "execute_result"
    }
   ],
   "source": [
    "dt = DecisionTreeRegressor(max_depth = 5)\n",
    "dt.fit(X_train, y_train)"
   ]
  },
  {
   "cell_type": "code",
   "execution_count": 49,
   "metadata": {},
   "outputs": [
    {
     "data": {
      "text/plain": [
       "0.4188456228045922"
      ]
     },
     "execution_count": 49,
     "metadata": {},
     "output_type": "execute_result"
    }
   ],
   "source": [
    "y_pred = dt.predict(X_val)\n",
    "rmse(y_val, y_pred)"
   ]
  },
  {
   "cell_type": "code",
   "execution_count": 50,
   "metadata": {},
   "outputs": [],
   "source": [
    "values = [10, 15, 20, 25]\n",
    "scores = []\n",
    "for v in values:\n",
    "    for n in range (10, 201, 10):\n",
    "        dt = DecisionTreeRegressor(min_samples_leaf=n, random_state=1, max_depth = v)\n",
    "        dt.fit(X_train, y_train)\n",
    "        y_pred = dt.predict(X_val)  \n",
    "        scores.append((v, n, rmse(y_val, y_pred)))"
   ]
  },
  {
   "cell_type": "code",
   "execution_count": 51,
   "metadata": {},
   "outputs": [
    {
     "data": {
      "text/html": [
       "<div>\n",
       "<style scoped>\n",
       "    .dataframe tbody tr th:only-of-type {\n",
       "        vertical-align: middle;\n",
       "    }\n",
       "\n",
       "    .dataframe tbody tr th {\n",
       "        vertical-align: top;\n",
       "    }\n",
       "\n",
       "    .dataframe thead th {\n",
       "        text-align: right;\n",
       "    }\n",
       "</style>\n",
       "<table border=\"1\" class=\"dataframe\">\n",
       "  <thead>\n",
       "    <tr style=\"text-align: right;\">\n",
       "      <th></th>\n",
       "      <th>max_depth</th>\n",
       "      <th>min_samples_leaf</th>\n",
       "      <th>rmse</th>\n",
       "    </tr>\n",
       "  </thead>\n",
       "  <tbody>\n",
       "    <tr>\n",
       "      <th>0</th>\n",
       "      <td>10</td>\n",
       "      <td>10</td>\n",
       "      <td>0.409465</td>\n",
       "    </tr>\n",
       "    <tr>\n",
       "      <th>1</th>\n",
       "      <td>10</td>\n",
       "      <td>20</td>\n",
       "      <td>0.392179</td>\n",
       "    </tr>\n",
       "    <tr>\n",
       "      <th>2</th>\n",
       "      <td>10</td>\n",
       "      <td>30</td>\n",
       "      <td>0.386114</td>\n",
       "    </tr>\n",
       "    <tr>\n",
       "      <th>3</th>\n",
       "      <td>10</td>\n",
       "      <td>40</td>\n",
       "      <td>0.400088</td>\n",
       "    </tr>\n",
       "    <tr>\n",
       "      <th>4</th>\n",
       "      <td>10</td>\n",
       "      <td>50</td>\n",
       "      <td>0.401965</td>\n",
       "    </tr>\n",
       "    <tr>\n",
       "      <th>...</th>\n",
       "      <td>...</td>\n",
       "      <td>...</td>\n",
       "      <td>...</td>\n",
       "    </tr>\n",
       "    <tr>\n",
       "      <th>75</th>\n",
       "      <td>25</td>\n",
       "      <td>160</td>\n",
       "      <td>0.842942</td>\n",
       "    </tr>\n",
       "    <tr>\n",
       "      <th>76</th>\n",
       "      <td>25</td>\n",
       "      <td>170</td>\n",
       "      <td>0.842942</td>\n",
       "    </tr>\n",
       "    <tr>\n",
       "      <th>77</th>\n",
       "      <td>25</td>\n",
       "      <td>180</td>\n",
       "      <td>0.842942</td>\n",
       "    </tr>\n",
       "    <tr>\n",
       "      <th>78</th>\n",
       "      <td>25</td>\n",
       "      <td>190</td>\n",
       "      <td>0.842942</td>\n",
       "    </tr>\n",
       "    <tr>\n",
       "      <th>79</th>\n",
       "      <td>25</td>\n",
       "      <td>200</td>\n",
       "      <td>0.842942</td>\n",
       "    </tr>\n",
       "  </tbody>\n",
       "</table>\n",
       "<p>80 rows × 3 columns</p>\n",
       "</div>"
      ],
      "text/plain": [
       "    max_depth  min_samples_leaf      rmse\n",
       "0          10                10  0.409465\n",
       "1          10                20  0.392179\n",
       "2          10                30  0.386114\n",
       "3          10                40  0.400088\n",
       "4          10                50  0.401965\n",
       "..        ...               ...       ...\n",
       "75         25               160  0.842942\n",
       "76         25               170  0.842942\n",
       "77         25               180  0.842942\n",
       "78         25               190  0.842942\n",
       "79         25               200  0.842942\n",
       "\n",
       "[80 rows x 3 columns]"
      ]
     },
     "execution_count": 51,
     "metadata": {},
     "output_type": "execute_result"
    }
   ],
   "source": [
    "df_scores = pd.DataFrame(scores, columns=['max_depth', 'min_samples_leaf', 'rmse'])\n",
    "df_scores"
   ]
  },
  {
   "cell_type": "code",
   "execution_count": 52,
   "metadata": {},
   "outputs": [
    {
     "data": {
      "text/html": [
       "<div>\n",
       "<style scoped>\n",
       "    .dataframe tbody tr th:only-of-type {\n",
       "        vertical-align: middle;\n",
       "    }\n",
       "\n",
       "    .dataframe tbody tr th {\n",
       "        vertical-align: top;\n",
       "    }\n",
       "\n",
       "    .dataframe thead th {\n",
       "        text-align: right;\n",
       "    }\n",
       "</style>\n",
       "<table border=\"1\" class=\"dataframe\">\n",
       "  <thead>\n",
       "    <tr style=\"text-align: right;\">\n",
       "      <th></th>\n",
       "      <th>max_depth</th>\n",
       "      <th>min_samples_leaf</th>\n",
       "      <th>rmse</th>\n",
       "    </tr>\n",
       "  </thead>\n",
       "  <tbody>\n",
       "    <tr>\n",
       "      <th>2</th>\n",
       "      <td>10</td>\n",
       "      <td>30</td>\n",
       "      <td>0.386114</td>\n",
       "    </tr>\n",
       "    <tr>\n",
       "      <th>22</th>\n",
       "      <td>15</td>\n",
       "      <td>30</td>\n",
       "      <td>0.386114</td>\n",
       "    </tr>\n",
       "    <tr>\n",
       "      <th>42</th>\n",
       "      <td>20</td>\n",
       "      <td>30</td>\n",
       "      <td>0.386114</td>\n",
       "    </tr>\n",
       "    <tr>\n",
       "      <th>62</th>\n",
       "      <td>25</td>\n",
       "      <td>30</td>\n",
       "      <td>0.386114</td>\n",
       "    </tr>\n",
       "  </tbody>\n",
       "</table>\n",
       "</div>"
      ],
      "text/plain": [
       "    max_depth  min_samples_leaf      rmse\n",
       "2          10                30  0.386114\n",
       "22         15                30  0.386114\n",
       "42         20                30  0.386114\n",
       "62         25                30  0.386114"
      ]
     },
     "execution_count": 52,
     "metadata": {},
     "output_type": "execute_result"
    }
   ],
   "source": [
    "df_scores[df_scores.rmse == df_scores.rmse.min()]"
   ]
  },
  {
   "cell_type": "code",
   "execution_count": 53,
   "metadata": {},
   "outputs": [],
   "source": [
    "values = [2, 5,6,7, 8,10, 15, 20, 25]\n",
    "scores = []\n",
    "for v in values:\n",
    "    for n in range (20, 40, 5):\n",
    "        dt = DecisionTreeRegressor(min_samples_leaf=n, random_state=1, max_depth = v)\n",
    "        dt.fit(X_train, y_train)\n",
    "        y_pred = dt.predict(X_val)  \n",
    "        scores.append((v, n, rmse(y_val, y_pred)))"
   ]
  },
  {
   "cell_type": "code",
   "execution_count": 54,
   "metadata": {},
   "outputs": [
    {
     "data": {
      "text/html": [
       "<div>\n",
       "<style scoped>\n",
       "    .dataframe tbody tr th:only-of-type {\n",
       "        vertical-align: middle;\n",
       "    }\n",
       "\n",
       "    .dataframe tbody tr th {\n",
       "        vertical-align: top;\n",
       "    }\n",
       "\n",
       "    .dataframe thead th {\n",
       "        text-align: right;\n",
       "    }\n",
       "</style>\n",
       "<table border=\"1\" class=\"dataframe\">\n",
       "  <thead>\n",
       "    <tr style=\"text-align: right;\">\n",
       "      <th></th>\n",
       "      <th>max_depth</th>\n",
       "      <th>min_samples_leaf</th>\n",
       "      <th>rmse</th>\n",
       "    </tr>\n",
       "  </thead>\n",
       "  <tbody>\n",
       "    <tr>\n",
       "      <th>11</th>\n",
       "      <td>6</td>\n",
       "      <td>35</td>\n",
       "      <td>0.378799</td>\n",
       "    </tr>\n",
       "    <tr>\n",
       "      <th>15</th>\n",
       "      <td>7</td>\n",
       "      <td>35</td>\n",
       "      <td>0.378799</td>\n",
       "    </tr>\n",
       "    <tr>\n",
       "      <th>19</th>\n",
       "      <td>8</td>\n",
       "      <td>35</td>\n",
       "      <td>0.378799</td>\n",
       "    </tr>\n",
       "    <tr>\n",
       "      <th>23</th>\n",
       "      <td>10</td>\n",
       "      <td>35</td>\n",
       "      <td>0.378799</td>\n",
       "    </tr>\n",
       "    <tr>\n",
       "      <th>27</th>\n",
       "      <td>15</td>\n",
       "      <td>35</td>\n",
       "      <td>0.378799</td>\n",
       "    </tr>\n",
       "    <tr>\n",
       "      <th>31</th>\n",
       "      <td>20</td>\n",
       "      <td>35</td>\n",
       "      <td>0.378799</td>\n",
       "    </tr>\n",
       "    <tr>\n",
       "      <th>35</th>\n",
       "      <td>25</td>\n",
       "      <td>35</td>\n",
       "      <td>0.378799</td>\n",
       "    </tr>\n",
       "  </tbody>\n",
       "</table>\n",
       "</div>"
      ],
      "text/plain": [
       "    max_depth  min_samples_leaf      rmse\n",
       "11          6                35  0.378799\n",
       "15          7                35  0.378799\n",
       "19          8                35  0.378799\n",
       "23         10                35  0.378799\n",
       "27         15                35  0.378799\n",
       "31         20                35  0.378799\n",
       "35         25                35  0.378799"
      ]
     },
     "execution_count": 54,
     "metadata": {},
     "output_type": "execute_result"
    }
   ],
   "source": [
    "df_scores = pd.DataFrame(scores, columns=['max_depth', 'min_samples_leaf', 'rmse'])\n",
    "df_scores[df_scores.rmse == df_scores.rmse.min()]"
   ]
  },
  {
   "cell_type": "code",
   "execution_count": 55,
   "metadata": {},
   "outputs": [],
   "source": [
    "values = [2, 5,6,7, 8,10, 15, 20, 25]\n",
    "scores = []\n",
    "for n in range (2, 40, 2):\n",
    "    dt = DecisionTreeRegressor(min_samples_split = n, min_samples_leaf=35, random_state=1, max_depth = 6)\n",
    "    dt.fit(X_train, y_train)\n",
    "    y_pred = dt.predict(X_val)  \n",
    "    scores.append((n, rmse(y_val, y_pred)))\n",
    "\n"
   ]
  },
  {
   "cell_type": "code",
   "execution_count": 56,
   "metadata": {},
   "outputs": [
    {
     "data": {
      "text/html": [
       "<div>\n",
       "<style scoped>\n",
       "    .dataframe tbody tr th:only-of-type {\n",
       "        vertical-align: middle;\n",
       "    }\n",
       "\n",
       "    .dataframe tbody tr th {\n",
       "        vertical-align: top;\n",
       "    }\n",
       "\n",
       "    .dataframe thead th {\n",
       "        text-align: right;\n",
       "    }\n",
       "</style>\n",
       "<table border=\"1\" class=\"dataframe\">\n",
       "  <thead>\n",
       "    <tr style=\"text-align: right;\">\n",
       "      <th></th>\n",
       "      <th>min_samples_split</th>\n",
       "      <th>rmse</th>\n",
       "    </tr>\n",
       "  </thead>\n",
       "  <tbody>\n",
       "    <tr>\n",
       "      <th>0</th>\n",
       "      <td>2</td>\n",
       "      <td>0.378799</td>\n",
       "    </tr>\n",
       "    <tr>\n",
       "      <th>1</th>\n",
       "      <td>4</td>\n",
       "      <td>0.378799</td>\n",
       "    </tr>\n",
       "    <tr>\n",
       "      <th>2</th>\n",
       "      <td>6</td>\n",
       "      <td>0.378799</td>\n",
       "    </tr>\n",
       "    <tr>\n",
       "      <th>3</th>\n",
       "      <td>8</td>\n",
       "      <td>0.378799</td>\n",
       "    </tr>\n",
       "    <tr>\n",
       "      <th>4</th>\n",
       "      <td>10</td>\n",
       "      <td>0.378799</td>\n",
       "    </tr>\n",
       "    <tr>\n",
       "      <th>5</th>\n",
       "      <td>12</td>\n",
       "      <td>0.378799</td>\n",
       "    </tr>\n",
       "    <tr>\n",
       "      <th>6</th>\n",
       "      <td>14</td>\n",
       "      <td>0.378799</td>\n",
       "    </tr>\n",
       "    <tr>\n",
       "      <th>7</th>\n",
       "      <td>16</td>\n",
       "      <td>0.378799</td>\n",
       "    </tr>\n",
       "    <tr>\n",
       "      <th>8</th>\n",
       "      <td>18</td>\n",
       "      <td>0.378799</td>\n",
       "    </tr>\n",
       "    <tr>\n",
       "      <th>9</th>\n",
       "      <td>20</td>\n",
       "      <td>0.378799</td>\n",
       "    </tr>\n",
       "    <tr>\n",
       "      <th>10</th>\n",
       "      <td>22</td>\n",
       "      <td>0.378799</td>\n",
       "    </tr>\n",
       "    <tr>\n",
       "      <th>11</th>\n",
       "      <td>24</td>\n",
       "      <td>0.378799</td>\n",
       "    </tr>\n",
       "    <tr>\n",
       "      <th>12</th>\n",
       "      <td>26</td>\n",
       "      <td>0.378799</td>\n",
       "    </tr>\n",
       "    <tr>\n",
       "      <th>13</th>\n",
       "      <td>28</td>\n",
       "      <td>0.378799</td>\n",
       "    </tr>\n",
       "    <tr>\n",
       "      <th>14</th>\n",
       "      <td>30</td>\n",
       "      <td>0.378799</td>\n",
       "    </tr>\n",
       "    <tr>\n",
       "      <th>15</th>\n",
       "      <td>32</td>\n",
       "      <td>0.378799</td>\n",
       "    </tr>\n",
       "    <tr>\n",
       "      <th>16</th>\n",
       "      <td>34</td>\n",
       "      <td>0.378799</td>\n",
       "    </tr>\n",
       "    <tr>\n",
       "      <th>17</th>\n",
       "      <td>36</td>\n",
       "      <td>0.378799</td>\n",
       "    </tr>\n",
       "    <tr>\n",
       "      <th>18</th>\n",
       "      <td>38</td>\n",
       "      <td>0.378799</td>\n",
       "    </tr>\n",
       "  </tbody>\n",
       "</table>\n",
       "</div>"
      ],
      "text/plain": [
       "    min_samples_split      rmse\n",
       "0                   2  0.378799\n",
       "1                   4  0.378799\n",
       "2                   6  0.378799\n",
       "3                   8  0.378799\n",
       "4                  10  0.378799\n",
       "5                  12  0.378799\n",
       "6                  14  0.378799\n",
       "7                  16  0.378799\n",
       "8                  18  0.378799\n",
       "9                  20  0.378799\n",
       "10                 22  0.378799\n",
       "11                 24  0.378799\n",
       "12                 26  0.378799\n",
       "13                 28  0.378799\n",
       "14                 30  0.378799\n",
       "15                 32  0.378799\n",
       "16                 34  0.378799\n",
       "17                 36  0.378799\n",
       "18                 38  0.378799"
      ]
     },
     "execution_count": 56,
     "metadata": {},
     "output_type": "execute_result"
    }
   ],
   "source": [
    "df_scores = pd.DataFrame(scores, columns=['min_samples_split',  'rmse'])\n",
    "df_scores[df_scores.rmse == df_scores.rmse.min()]"
   ]
  },
  {
   "cell_type": "code",
   "execution_count": 57,
   "metadata": {},
   "outputs": [
    {
     "data": {
      "text/plain": [
       "<Axes: ylabel='Count'>"
      ]
     },
     "execution_count": 57,
     "metadata": {},
     "output_type": "execute_result"
    },
    {
     "data": {
      "image/png": "[encoded data removed]",
      "text/plain": [
       "<Figure size 432x288 with 1 Axes>"
      ]
     },
     "metadata": {
      "needs_background": "light"
     },
     "output_type": "display_data"
    }
   ],
   "source": [
    "sns.histplot(y_pred, color='red', alpha=0.5, bins=100)\n",
    "sns.histplot(y_val, color='blue', alpha=0.5, bins=100)"
   ]
  },
  {
   "cell_type": "code",
   "execution_count": 58,
   "metadata": {},
   "outputs": [
    {
     "data": {
      "text/plain": [
       "array([ 9.12639757,  8.76254868,  8.6105491 , 10.46769662, 10.71463898,\n",
       "        9.87901767,  9.05461093,  7.03649971,  8.54736035,  7.47326112,\n",
       "        7.70641697,  9.1206291 ,  8.72006363,  9.98406628,  8.41807602,\n",
       "        7.85819645,  9.83357042,  8.87668587,  9.60928538,  7.67571351,\n",
       "       10.22321004,  9.95700718,  9.54697593,  9.21695972,  9.50534048,\n",
       "        9.01435029,  7.14113348, 10.55278079,  8.71080523, 10.27337623,\n",
       "        8.87826883, 10.12159383,  7.58779189,  9.53032732,  9.30259553,\n",
       "        9.06007819,  9.30203767,  8.78709743,  8.79065625, 10.63770664,\n",
       "        9.97457391,  9.10377455,  8.88221135,  7.8073075 ,  9.57864588,\n",
       "        7.53845743,  8.63344065,  9.18250967,  9.70848845, 10.61991868,\n",
       "        8.84533221,  9.84199215,  9.31237119,  7.99804167, 10.08115926,\n",
       "        8.45972012,  9.98326546,  8.35252906,  9.76980221, 10.10211799,\n",
       "        9.44093883,  8.7632097 ,  9.76208331,  7.91146884,  7.04786142,\n",
       "        9.38816288,  7.39684651,  8.53328227,  9.23002262, 10.28643377,\n",
       "        8.56760261,  9.33734543,  8.12752244,  8.9037032 ,  9.5635343 ,\n",
       "        9.47146346, 10.76843224,  8.76521052,  7.6516336 ,  9.15921265,\n",
       "        7.33648401,  8.89919152,  9.11633712,  8.76975941,  9.33317149,\n",
       "       10.58690651,  9.08546693,  9.57215758,  8.92442567, 10.66827732,\n",
       "        7.40279482,  9.80006781,  7.97747723,  8.59452092,  8.5989618 ,\n",
       "        9.01598333,  7.89429916,  8.56956136,  9.26875534,  8.22513492,\n",
       "        7.4436645 ,  7.82205283,  8.39890799,  7.862797  ,  9.08534227,\n",
       "        7.85797158,  9.04991678,  9.48934197,  9.56490567,  8.49850152,\n",
       "        8.50185941,  8.64995101, 10.68960983, 10.5897742 , 10.17127402,\n",
       "       10.20090388, 10.11066628, 10.58654417,  9.19812686,  8.90554903,\n",
       "        8.82436361,  9.94015641,  9.44231577,  8.09586347,  8.07160745,\n",
       "        8.93912439, 10.24360788,  8.74683636,  9.90020507,  8.58047799,\n",
       "       10.62218604,  8.7876401 ,  8.21753421,  9.19669487,  9.00745477,\n",
       "        9.43318715, 10.45215334, 10.73925187,  9.10109014,  9.68758674,\n",
       "        7.70015823,  8.60766423,  8.73009581,  8.52362636,  8.85173599,\n",
       "        7.06001506, 10.87031605,  9.81022914, 10.18369541,  8.37977853,\n",
       "       10.04689308, 10.10792518,  9.42592576,  7.42394587, 10.52597488,\n",
       "        9.57890938, 10.84340807,  9.24538324,  9.34618347,  9.52871209,\n",
       "        9.37049122,  9.35321682,  9.41204192,  9.35126729, 10.56481778,\n",
       "        8.51586759, 10.49188545, 10.60708046, 10.23314106,  9.13599182,\n",
       "        7.79936603,  7.90924003, 10.05577629,  9.29184057,  9.16353128,\n",
       "        9.41496866, 10.45681547,  8.09503787,  9.40058694, 10.44158938,\n",
       "        8.56835567,  9.46728932, 10.59256444,  7.61162096,  8.80798512,\n",
       "        8.0732444 ,  9.98957352,  9.13408516,  9.50689214, 10.57751414,\n",
       "       10.05373668,  9.18161584, 10.53857056,  7.80718919, 10.79724911,\n",
       "        8.74564025,  7.59025346, 10.09527819,  9.35352437,  9.84715481,\n",
       "        7.92883554,  9.05259486,  8.56928563,  9.09738829,  9.4814055 ,\n",
       "        8.28978476, 10.47972377, 10.39051239,  9.13658906,  9.4045558 ,\n",
       "        8.29284336,  8.79399251, 10.42625222, 10.54868444,  8.67537616,\n",
       "       10.51735494,  9.14974128,  9.91827091,  7.8179217 , 10.20503237,\n",
       "        9.96291974,  9.73423565, 10.79295201,  8.2912773 ,  9.65587156,\n",
       "       10.65870373,  9.09292296,  9.23167477,  9.40491744,  9.7277823 ,\n",
       "        8.06511124,  8.71907135, 10.68772845,  7.70171147,  9.01603904,\n",
       "        9.34867824,  8.32715594,  9.71640454,  9.02039511,  7.40279482,\n",
       "        7.59360253, 10.52315405,  8.17616744,  7.03218869,  7.72425608,\n",
       "        9.5882035 ,  9.38303647, 10.5349861 ,  8.98162093,  8.13485576,\n",
       "       10.2502247 ,  8.49269168,  9.18910304,  8.02731603,  7.59485089,\n",
       "        9.08570754,  8.83200773,  9.14765038,  9.33823066,  8.94269276,\n",
       "        9.47372017,  8.47567445,  9.2365384 ,  8.31273736,  8.42007836,\n",
       "        9.58022493,  7.97421896,  9.37852981])"
      ]
     },
     "execution_count": 58,
     "metadata": {},
     "output_type": "execute_result"
    }
   ],
   "source": [
    "y_val"
   ]
  },
  {
   "cell_type": "markdown",
   "metadata": {},
   "source": [
    "#### Random Forest Regressor"
   ]
  },
  {
   "cell_type": "code",
   "execution_count": 59,
   "metadata": {},
   "outputs": [
    {
     "data": {
      "text/html": [
       "<style>#sk-container-id-4 {color: black;}#sk-container-id-4 pre{padding: 0;}#sk-container-id-4 div.sk-toggleable {background-color: white;}#sk-container-id-4 label.sk-toggleable__label {cursor: pointer;display: block;width: 100%;margin-bottom: 0;padding: 0.3em;box-sizing: border-box;text-align: center;}#sk-container-id-4 label.sk-toggleable__label-arrow:before {content: \"▸\";float: left;margin-right: 0.25em;color: #696969;}#sk-container-id-4 label.sk-toggleable__label-arrow:hover:before {color: black;}#sk-container-id-4 div.sk-estimator:hover label.sk-toggleable__label-arrow:before {color: black;}#sk-container-id-4 div.sk-toggleable__content {max-height: 0;max-width: 0;overflow: hidden;text-align: left;background-color: #f0f8ff;}#sk-container-id-4 div.sk-toggleable__content pre {margin: 0.2em;color: black;border-radius: 0.25em;background-color: #f0f8ff;}#sk-container-id-4 input.sk-toggleable__control:checked~div.sk-toggleable__content {max-height: 200px;max-width: 100%;overflow: auto;}#sk-container-id-4 input.sk-toggleable__control:checked~label.sk-toggleable__label-arrow:before {content: \"▾\";}#sk-container-id-4 div.sk-estimator input.sk-toggleable__control:checked~label.sk-toggleable__label {background-color: #d4ebff;}#sk-container-id-4 div.sk-label input.sk-toggleable__control:checked~label.sk-toggleable__label {background-color: #d4ebff;}#sk-container-id-4 input.sk-hidden--visually {border: 0;clip: rect(1px 1px 1px 1px);clip: rect(1px, 1px, 1px, 1px);height: 1px;margin: -1px;overflow: hidden;padding: 0;position: absolute;width: 1px;}#sk-container-id-4 div.sk-estimator {font-family: monospace;background-color: #f0f8ff;border: 1px dotted black;border-radius: 0.25em;box-sizing: border-box;margin-bottom: 0.5em;}#sk-container-id-4 div.sk-estimator:hover {background-color: #d4ebff;}#sk-container-id-4 div.sk-parallel-item::after {content: \"\";width: 100%;border-bottom: 1px solid gray;flex-grow: 1;}#sk-container-id-4 div.sk-label:hover label.sk-toggleable__label {background-color: #d4ebff;}#sk-container-id-4 div.sk-serial::before {content: \"\";position: absolute;border-left: 1px solid gray;box-sizing: border-box;top: 0;bottom: 0;left: 50%;z-index: 0;}#sk-container-id-4 div.sk-serial {display: flex;flex-direction: column;align-items: center;background-color: white;padding-right: 0.2em;padding-left: 0.2em;position: relative;}#sk-container-id-4 div.sk-item {position: relative;z-index: 1;}#sk-container-id-4 div.sk-parallel {display: flex;align-items: stretch;justify-content: center;background-color: white;position: relative;}#sk-container-id-4 div.sk-item::before, #sk-container-id-4 div.sk-parallel-item::before {content: \"\";position: absolute;border-left: 1px solid gray;box-sizing: border-box;top: 0;bottom: 0;left: 50%;z-index: -1;}#sk-container-id-4 div.sk-parallel-item {display: flex;flex-direction: column;z-index: 1;position: relative;background-color: white;}#sk-container-id-4 div.sk-parallel-item:first-child::after {align-self: flex-end;width: 50%;}#sk-container-id-4 div.sk-parallel-item:last-child::after {align-self: flex-start;width: 50%;}#sk-container-id-4 div.sk-parallel-item:only-child::after {width: 0;}#sk-container-id-4 div.sk-dashed-wrapped {border: 1px dashed gray;margin: 0 0.4em 0.5em 0.4em;box-sizing: border-box;padding-bottom: 0.4em;background-color: white;}#sk-container-id-4 div.sk-label label {font-family: monospace;font-weight: bold;display: inline-block;line-height: 1.2em;}#sk-container-id-4 div.sk-label-container {text-align: center;}#sk-container-id-4 div.sk-container {/* jupyter's `normalize.less` sets `[hidden] { display: none; }` but bootstrap.min.css set `[hidden] { display: none !important; }` so we also need the `!important` here to be able to override the default hidden behavior on the sphinx rendered scikit-learn.org. See: https://github.com/scikit-learn/scikit-learn/issues/21755 */display: inline-block !important;position: relative;}#sk-container-id-4 div.sk-text-repr-fallback {display: none;}</style><div id=\"sk-container-id-4\" class=\"sk-top-container\"><div class=\"sk-text-repr-fallback\"><pre>RandomForestRegressor(n_estimators=10, n_jobs=-1, random_state=1)</pre><b>In a Jupyter environment, please rerun this cell to show the HTML representation or trust the notebook. <br />On GitHub, the HTML representation is unable to render, please try loading this page with nbviewer.org.</b></div><div class=\"sk-container\" hidden><div class=\"sk-item\"><div class=\"sk-estimator sk-toggleable\"><input class=\"sk-toggleable__control sk-hidden--visually\" id=\"sk-estimator-id-4\" type=\"checkbox\" checked><label for=\"sk-estimator-id-4\" class=\"sk-toggleable__label sk-toggleable__label-arrow\">RandomForestRegressor</label><div class=\"sk-toggleable__content\"><pre>RandomForestRegressor(n_estimators=10, n_jobs=-1, random_state=1)</pre></div></div></div></div></div>"
      ],
      "text/plain": [
       "RandomForestRegressor(n_estimators=10, n_jobs=-1, random_state=1)"
      ]
     },
     "execution_count": 59,
     "metadata": {},
     "output_type": "execute_result"
    }
   ],
   "source": [
    "from sklearn.ensemble import RandomForestRegressor\n",
    "\n",
    "rf = RandomForestRegressor(n_estimators=10, random_state=1, n_jobs=-1)\n",
    "rf.fit(X_train, y_train)\n"
   ]
  },
  {
   "cell_type": "code",
   "execution_count": 60,
   "metadata": {},
   "outputs": [
    {
     "data": {
      "text/plain": [
       "0.4364831937217117"
      ]
     },
     "execution_count": 60,
     "metadata": {},
     "output_type": "execute_result"
    }
   ],
   "source": [
    "y_pred = rf.predict(X_val)\n",
    "rmse(y_val, y_pred)"
   ]
  },
  {
   "cell_type": "code",
   "execution_count": 61,
   "metadata": {},
   "outputs": [],
   "source": [
    "scores = []\n",
    "\n",
    "for n in range (10, 201, 10):\n",
    "    rf = RandomForestRegressor(n_estimators=n, random_state=1, n_jobs=-1)\n",
    "    rf.fit(X_train, y_train)\n",
    "    y_pred = rf.predict(X_val)  \n",
    "    scores.append((n, rmse(y_val, y_pred)))"
   ]
  },
  {
   "cell_type": "code",
   "execution_count": 62,
   "metadata": {},
   "outputs": [
    {
     "data": {
      "text/plain": [
       "[<matplotlib.lines.Line2D at 0x2179b96d900>]"
      ]
     },
     "execution_count": 62,
     "metadata": {},
     "output_type": "execute_result"
    },
    {
     "data": {
      "image/png": "[encoded data removed]",
      "text/plain": [
       "<Figure size 432x288 with 1 Axes>"
      ]
     },
     "metadata": {
      "needs_background": "light"
     },
     "output_type": "display_data"
    }
   ],
   "source": [
    "df_scores = pd.DataFrame(scores, columns=['n_estimators', 'rmse'])\n",
    "plt.plot(df_scores.n_estimators, df_scores.rmse)"
   ]
  },
  {
   "cell_type": "code",
   "execution_count": 63,
   "metadata": {},
   "outputs": [
    {
     "data": {
      "text/html": [
       "<div>\n",
       "<style scoped>\n",
       "    .dataframe tbody tr th:only-of-type {\n",
       "        vertical-align: middle;\n",
       "    }\n",
       "\n",
       "    .dataframe tbody tr th {\n",
       "        vertical-align: top;\n",
       "    }\n",
       "\n",
       "    .dataframe thead th {\n",
       "        text-align: right;\n",
       "    }\n",
       "</style>\n",
       "<table border=\"1\" class=\"dataframe\">\n",
       "  <thead>\n",
       "    <tr style=\"text-align: right;\">\n",
       "      <th></th>\n",
       "      <th>n_estimators</th>\n",
       "      <th>rmse</th>\n",
       "    </tr>\n",
       "  </thead>\n",
       "  <tbody>\n",
       "    <tr>\n",
       "      <th>9</th>\n",
       "      <td>100</td>\n",
       "      <td>0.422722</td>\n",
       "    </tr>\n",
       "  </tbody>\n",
       "</table>\n",
       "</div>"
      ],
      "text/plain": [
       "   n_estimators      rmse\n",
       "9           100  0.422722"
      ]
     },
     "execution_count": 63,
     "metadata": {},
     "output_type": "execute_result"
    }
   ],
   "source": [
    "df_scores[df_scores.rmse == df_scores.rmse.min()]"
   ]
  },
  {
   "cell_type": "code",
   "execution_count": 64,
   "metadata": {},
   "outputs": [],
   "source": [
    "values = [10, 15, 20, 25]\n",
    "scores = []\n",
    "for v in values:\n",
    "    for n in range (10, 201, 10):\n",
    "        rf = RandomForestRegressor(n_estimators=n, random_state=1, n_jobs=-1, max_depth = v)\n",
    "        rf.fit(X_train, y_train)\n",
    "        y_pred = rf.predict(X_val)  \n",
    "        scores.append((v, n, rmse(y_val, y_pred)))"
   ]
  },
  {
   "cell_type": "code",
   "execution_count": 65,
   "metadata": {},
   "outputs": [
    {
     "data": {
      "text/html": [
       "<div>\n",
       "<style scoped>\n",
       "    .dataframe tbody tr th:only-of-type {\n",
       "        vertical-align: middle;\n",
       "    }\n",
       "\n",
       "    .dataframe tbody tr th {\n",
       "        vertical-align: top;\n",
       "    }\n",
       "\n",
       "    .dataframe thead th {\n",
       "        text-align: right;\n",
       "    }\n",
       "</style>\n",
       "<table border=\"1\" class=\"dataframe\">\n",
       "  <thead>\n",
       "    <tr style=\"text-align: right;\">\n",
       "      <th></th>\n",
       "      <th>n_estimators</th>\n",
       "      <th>rmse</th>\n",
       "    </tr>\n",
       "  </thead>\n",
       "  <tbody>\n",
       "    <tr>\n",
       "      <th>0</th>\n",
       "      <td>10</td>\n",
       "      <td>0.436483</td>\n",
       "    </tr>\n",
       "    <tr>\n",
       "      <th>1</th>\n",
       "      <td>20</td>\n",
       "      <td>0.437233</td>\n",
       "    </tr>\n",
       "    <tr>\n",
       "      <th>2</th>\n",
       "      <td>30</td>\n",
       "      <td>0.432762</td>\n",
       "    </tr>\n",
       "    <tr>\n",
       "      <th>3</th>\n",
       "      <td>40</td>\n",
       "      <td>0.435825</td>\n",
       "    </tr>\n",
       "    <tr>\n",
       "      <th>4</th>\n",
       "      <td>50</td>\n",
       "      <td>0.432845</td>\n",
       "    </tr>\n",
       "    <tr>\n",
       "      <th>5</th>\n",
       "      <td>60</td>\n",
       "      <td>0.430852</td>\n",
       "    </tr>\n",
       "    <tr>\n",
       "      <th>6</th>\n",
       "      <td>70</td>\n",
       "      <td>0.429613</td>\n",
       "    </tr>\n",
       "    <tr>\n",
       "      <th>7</th>\n",
       "      <td>80</td>\n",
       "      <td>0.426620</td>\n",
       "    </tr>\n",
       "    <tr>\n",
       "      <th>8</th>\n",
       "      <td>90</td>\n",
       "      <td>0.424424</td>\n",
       "    </tr>\n",
       "    <tr>\n",
       "      <th>9</th>\n",
       "      <td>100</td>\n",
       "      <td>0.422722</td>\n",
       "    </tr>\n",
       "    <tr>\n",
       "      <th>10</th>\n",
       "      <td>110</td>\n",
       "      <td>0.423572</td>\n",
       "    </tr>\n",
       "    <tr>\n",
       "      <th>11</th>\n",
       "      <td>120</td>\n",
       "      <td>0.424031</td>\n",
       "    </tr>\n",
       "    <tr>\n",
       "      <th>12</th>\n",
       "      <td>130</td>\n",
       "      <td>0.423613</td>\n",
       "    </tr>\n",
       "    <tr>\n",
       "      <th>13</th>\n",
       "      <td>140</td>\n",
       "      <td>0.424049</td>\n",
       "    </tr>\n",
       "    <tr>\n",
       "      <th>14</th>\n",
       "      <td>150</td>\n",
       "      <td>0.424970</td>\n",
       "    </tr>\n",
       "    <tr>\n",
       "      <th>15</th>\n",
       "      <td>160</td>\n",
       "      <td>0.423772</td>\n",
       "    </tr>\n",
       "    <tr>\n",
       "      <th>16</th>\n",
       "      <td>170</td>\n",
       "      <td>0.422926</td>\n",
       "    </tr>\n",
       "    <tr>\n",
       "      <th>17</th>\n",
       "      <td>180</td>\n",
       "      <td>0.422779</td>\n",
       "    </tr>\n",
       "    <tr>\n",
       "      <th>18</th>\n",
       "      <td>190</td>\n",
       "      <td>0.423823</td>\n",
       "    </tr>\n",
       "    <tr>\n",
       "      <th>19</th>\n",
       "      <td>200</td>\n",
       "      <td>0.423124</td>\n",
       "    </tr>\n",
       "  </tbody>\n",
       "</table>\n",
       "</div>"
      ],
      "text/plain": [
       "    n_estimators      rmse\n",
       "0             10  0.436483\n",
       "1             20  0.437233\n",
       "2             30  0.432762\n",
       "3             40  0.435825\n",
       "4             50  0.432845\n",
       "5             60  0.430852\n",
       "6             70  0.429613\n",
       "7             80  0.426620\n",
       "8             90  0.424424\n",
       "9            100  0.422722\n",
       "10           110  0.423572\n",
       "11           120  0.424031\n",
       "12           130  0.423613\n",
       "13           140  0.424049\n",
       "14           150  0.424970\n",
       "15           160  0.423772\n",
       "16           170  0.422926\n",
       "17           180  0.422779\n",
       "18           190  0.423823\n",
       "19           200  0.423124"
      ]
     },
     "execution_count": 65,
     "metadata": {},
     "output_type": "execute_result"
    }
   ],
   "source": [
    "df_scores"
   ]
  },
  {
   "cell_type": "code",
   "execution_count": 67,
   "metadata": {},
   "outputs": [
    {
     "data": {
      "text/html": [
       "<div>\n",
       "<style scoped>\n",
       "    .dataframe tbody tr th:only-of-type {\n",
       "        vertical-align: middle;\n",
       "    }\n",
       "\n",
       "    .dataframe tbody tr th {\n",
       "        vertical-align: top;\n",
       "    }\n",
       "\n",
       "    .dataframe thead th {\n",
       "        text-align: right;\n",
       "    }\n",
       "</style>\n",
       "<table border=\"1\" class=\"dataframe\">\n",
       "  <thead>\n",
       "    <tr style=\"text-align: right;\">\n",
       "      <th></th>\n",
       "      <th>max_depth</th>\n",
       "      <th>n_estimators</th>\n",
       "      <th>rmse</th>\n",
       "    </tr>\n",
       "  </thead>\n",
       "  <tbody>\n",
       "    <tr>\n",
       "      <th>9</th>\n",
       "      <td>10</td>\n",
       "      <td>100</td>\n",
       "      <td>0.420412</td>\n",
       "    </tr>\n",
       "  </tbody>\n",
       "</table>\n",
       "</div>"
      ],
      "text/plain": [
       "   max_depth  n_estimators      rmse\n",
       "9         10           100  0.420412"
      ]
     },
     "execution_count": 67,
     "metadata": {},
     "output_type": "execute_result"
    }
   ],
   "source": [
    "df_scores[df_scores.rmse == df_scores.rmse.min()]"
   ]
  },
  {
   "cell_type": "code",
   "execution_count": 68,
   "metadata": {},
   "outputs": [
    {
     "name": "stdout",
     "output_type": "stream",
     "text": [
      "[0]\ttrain-rmse:0.68793\tval-rmse:0.71013\n",
      "[1]\ttrain-rmse:0.53701\tval-rmse:0.57037\n",
      "[2]\ttrain-rmse:0.43764\tval-rmse:0.49007\n",
      "[3]\ttrain-rmse:0.37631\tval-rmse:0.44743\n",
      "[4]\ttrain-rmse:0.33660\tval-rmse:0.42875\n",
      "[5]\ttrain-rmse:0.30794\tval-rmse:0.42394\n",
      "[6]\ttrain-rmse:0.28705\tval-rmse:0.42653\n",
      "[7]\ttrain-rmse:0.27421\tval-rmse:0.42519\n",
      "[8]\ttrain-rmse:0.26188\tval-rmse:0.42534\n",
      "[9]\ttrain-rmse:0.25294\tval-rmse:0.42682\n",
      "[10]\ttrain-rmse:0.24636\tval-rmse:0.42923\n",
      "[11]\ttrain-rmse:0.24212\tval-rmse:0.43138\n",
      "[12]\ttrain-rmse:0.22849\tval-rmse:0.43225\n",
      "[13]\ttrain-rmse:0.22547\tval-rmse:0.43413\n",
      "[14]\ttrain-rmse:0.22001\tval-rmse:0.43910\n",
      "[15]\ttrain-rmse:0.21502\tval-rmse:0.43941\n",
      "[16]\ttrain-rmse:0.20673\tval-rmse:0.44270\n",
      "[17]\ttrain-rmse:0.19865\tval-rmse:0.44303\n",
      "[18]\ttrain-rmse:0.19474\tval-rmse:0.44391\n",
      "[19]\ttrain-rmse:0.19201\tval-rmse:0.44547\n",
      "[20]\ttrain-rmse:0.18989\tval-rmse:0.44566\n",
      "[21]\ttrain-rmse:0.18485\tval-rmse:0.44581\n",
      "[22]\ttrain-rmse:0.17878\tval-rmse:0.44566\n",
      "[23]\ttrain-rmse:0.17684\tval-rmse:0.44602\n",
      "[24]\ttrain-rmse:0.17080\tval-rmse:0.44932\n",
      "[25]\ttrain-rmse:0.16989\tval-rmse:0.44987\n",
      "[26]\ttrain-rmse:0.16714\tval-rmse:0.44941\n",
      "[27]\ttrain-rmse:0.16242\tval-rmse:0.44805\n",
      "[28]\ttrain-rmse:0.15695\tval-rmse:0.44903\n",
      "[29]\ttrain-rmse:0.15501\tval-rmse:0.44876\n",
      "[30]\ttrain-rmse:0.14995\tval-rmse:0.44965\n",
      "[31]\ttrain-rmse:0.14709\tval-rmse:0.44989\n",
      "[32]\ttrain-rmse:0.14372\tval-rmse:0.44896\n",
      "[33]\ttrain-rmse:0.14207\tval-rmse:0.44919\n",
      "[34]\ttrain-rmse:0.13803\tval-rmse:0.44897\n",
      "[35]\ttrain-rmse:0.13682\tval-rmse:0.44945\n",
      "[36]\ttrain-rmse:0.13651\tval-rmse:0.44963\n",
      "[37]\ttrain-rmse:0.13268\tval-rmse:0.44948\n",
      "[38]\ttrain-rmse:0.13132\tval-rmse:0.44934\n",
      "[39]\ttrain-rmse:0.12985\tval-rmse:0.45014\n",
      "[40]\ttrain-rmse:0.12864\tval-rmse:0.45160\n",
      "[41]\ttrain-rmse:0.12657\tval-rmse:0.45111\n",
      "[42]\ttrain-rmse:0.12569\tval-rmse:0.45111\n",
      "[43]\ttrain-rmse:0.12454\tval-rmse:0.45189\n",
      "[44]\ttrain-rmse:0.12392\tval-rmse:0.45187\n",
      "[45]\ttrain-rmse:0.12316\tval-rmse:0.45237\n",
      "[46]\ttrain-rmse:0.12272\tval-rmse:0.45229\n",
      "[47]\ttrain-rmse:0.12131\tval-rmse:0.45260\n",
      "[48]\ttrain-rmse:0.11807\tval-rmse:0.45321\n",
      "[49]\ttrain-rmse:0.11604\tval-rmse:0.45329\n",
      "[50]\ttrain-rmse:0.11442\tval-rmse:0.45301\n",
      "[51]\ttrain-rmse:0.11058\tval-rmse:0.45348\n",
      "[52]\ttrain-rmse:0.10876\tval-rmse:0.45363\n",
      "[53]\ttrain-rmse:0.10645\tval-rmse:0.45336\n",
      "[54]\ttrain-rmse:0.10399\tval-rmse:0.45334\n",
      "[55]\ttrain-rmse:0.10326\tval-rmse:0.45384\n",
      "[56]\ttrain-rmse:0.10222\tval-rmse:0.45345\n",
      "[57]\ttrain-rmse:0.10054\tval-rmse:0.45386\n",
      "[58]\ttrain-rmse:0.10046\tval-rmse:0.45389\n",
      "[59]\ttrain-rmse:0.09858\tval-rmse:0.45412\n",
      "[60]\ttrain-rmse:0.09758\tval-rmse:0.45452\n",
      "[61]\ttrain-rmse:0.09684\tval-rmse:0.45465\n",
      "[62]\ttrain-rmse:0.09437\tval-rmse:0.45550\n",
      "[63]\ttrain-rmse:0.09318\tval-rmse:0.45538\n",
      "[64]\ttrain-rmse:0.09147\tval-rmse:0.45625\n",
      "[65]\ttrain-rmse:0.09074\tval-rmse:0.45617\n",
      "[66]\ttrain-rmse:0.09028\tval-rmse:0.45628\n",
      "[67]\ttrain-rmse:0.08863\tval-rmse:0.45686\n",
      "[68]\ttrain-rmse:0.08770\tval-rmse:0.45646\n",
      "[69]\ttrain-rmse:0.08562\tval-rmse:0.45699\n",
      "[70]\ttrain-rmse:0.08513\tval-rmse:0.45697\n",
      "[71]\ttrain-rmse:0.08440\tval-rmse:0.45727\n",
      "[72]\ttrain-rmse:0.08376\tval-rmse:0.45733\n",
      "[73]\ttrain-rmse:0.08241\tval-rmse:0.45748\n",
      "[74]\ttrain-rmse:0.08129\tval-rmse:0.45777\n",
      "[75]\ttrain-rmse:0.08049\tval-rmse:0.45818\n",
      "[76]\ttrain-rmse:0.08042\tval-rmse:0.45804\n",
      "[77]\ttrain-rmse:0.07996\tval-rmse:0.45833\n",
      "[78]\ttrain-rmse:0.07972\tval-rmse:0.45810\n",
      "[79]\ttrain-rmse:0.07820\tval-rmse:0.45804\n",
      "[80]\ttrain-rmse:0.07749\tval-rmse:0.45830\n",
      "[81]\ttrain-rmse:0.07718\tval-rmse:0.45843\n",
      "[82]\ttrain-rmse:0.07679\tval-rmse:0.45854\n",
      "[83]\ttrain-rmse:0.07552\tval-rmse:0.45847\n",
      "[84]\ttrain-rmse:0.07480\tval-rmse:0.45861\n",
      "[85]\ttrain-rmse:0.07468\tval-rmse:0.45860\n",
      "[86]\ttrain-rmse:0.07416\tval-rmse:0.45866\n",
      "[87]\ttrain-rmse:0.07365\tval-rmse:0.45855\n",
      "[88]\ttrain-rmse:0.07284\tval-rmse:0.45861\n",
      "[89]\ttrain-rmse:0.07235\tval-rmse:0.45860\n",
      "[90]\ttrain-rmse:0.07201\tval-rmse:0.45866\n",
      "[91]\ttrain-rmse:0.07145\tval-rmse:0.45871\n",
      "[92]\ttrain-rmse:0.07057\tval-rmse:0.45886\n",
      "[93]\ttrain-rmse:0.07054\tval-rmse:0.45888\n",
      "[94]\ttrain-rmse:0.07039\tval-rmse:0.45911\n",
      "[95]\ttrain-rmse:0.06969\tval-rmse:0.45910\n",
      "[96]\ttrain-rmse:0.06902\tval-rmse:0.45974\n",
      "[97]\ttrain-rmse:0.06859\tval-rmse:0.45984\n",
      "[98]\ttrain-rmse:0.06781\tval-rmse:0.46004\n",
      "[99]\ttrain-rmse:0.06718\tval-rmse:0.46022\n",
      "[100]\ttrain-rmse:0.06626\tval-rmse:0.46013\n",
      "[101]\ttrain-rmse:0.06592\tval-rmse:0.45996\n",
      "[102]\ttrain-rmse:0.06550\tval-rmse:0.46016\n",
      "[103]\ttrain-rmse:0.06520\tval-rmse:0.46031\n",
      "[104]\ttrain-rmse:0.06478\tval-rmse:0.46046\n",
      "[105]\ttrain-rmse:0.06463\tval-rmse:0.46049\n",
      "[106]\ttrain-rmse:0.06424\tval-rmse:0.46045\n",
      "[107]\ttrain-rmse:0.06421\tval-rmse:0.46044\n",
      "[108]\ttrain-rmse:0.06356\tval-rmse:0.46056\n",
      "[109]\ttrain-rmse:0.06333\tval-rmse:0.46077\n",
      "[110]\ttrain-rmse:0.06276\tval-rmse:0.46105\n",
      "[111]\ttrain-rmse:0.06256\tval-rmse:0.46113\n",
      "[112]\ttrain-rmse:0.06229\tval-rmse:0.46110\n",
      "[113]\ttrain-rmse:0.06178\tval-rmse:0.46138\n",
      "[114]\ttrain-rmse:0.06132\tval-rmse:0.46149\n",
      "[115]\ttrain-rmse:0.06103\tval-rmse:0.46165\n",
      "[116]\ttrain-rmse:0.06079\tval-rmse:0.46168\n",
      "[117]\ttrain-rmse:0.06060\tval-rmse:0.46176\n",
      "[118]\ttrain-rmse:0.06042\tval-rmse:0.46190\n",
      "[119]\ttrain-rmse:0.06021\tval-rmse:0.46211\n",
      "[120]\ttrain-rmse:0.06006\tval-rmse:0.46206\n",
      "[121]\ttrain-rmse:0.05987\tval-rmse:0.46205\n",
      "[122]\ttrain-rmse:0.05950\tval-rmse:0.46228\n",
      "[123]\ttrain-rmse:0.05938\tval-rmse:0.46235\n",
      "[124]\ttrain-rmse:0.05930\tval-rmse:0.46255\n",
      "[125]\ttrain-rmse:0.05916\tval-rmse:0.46262\n",
      "[126]\ttrain-rmse:0.05890\tval-rmse:0.46286\n",
      "[127]\ttrain-rmse:0.05869\tval-rmse:0.46297\n",
      "[128]\ttrain-rmse:0.05827\tval-rmse:0.46312\n",
      "[129]\ttrain-rmse:0.05813\tval-rmse:0.46301\n",
      "[130]\ttrain-rmse:0.05794\tval-rmse:0.46300\n",
      "[131]\ttrain-rmse:0.05769\tval-rmse:0.46317\n",
      "[132]\ttrain-rmse:0.05753\tval-rmse:0.46310\n",
      "[133]\ttrain-rmse:0.05735\tval-rmse:0.46311\n",
      "[134]\ttrain-rmse:0.05728\tval-rmse:0.46310\n",
      "[135]\ttrain-rmse:0.05718\tval-rmse:0.46310\n",
      "[136]\ttrain-rmse:0.05712\tval-rmse:0.46300\n",
      "[137]\ttrain-rmse:0.05694\tval-rmse:0.46303\n",
      "[138]\ttrain-rmse:0.05674\tval-rmse:0.46308\n",
      "[139]\ttrain-rmse:0.05672\tval-rmse:0.46304\n",
      "[140]\ttrain-rmse:0.05656\tval-rmse:0.46311\n",
      "[141]\ttrain-rmse:0.05641\tval-rmse:0.46322\n",
      "[142]\ttrain-rmse:0.05629\tval-rmse:0.46322\n",
      "[143]\ttrain-rmse:0.05624\tval-rmse:0.46321\n",
      "[144]\ttrain-rmse:0.05623\tval-rmse:0.46319\n",
      "[145]\ttrain-rmse:0.05617\tval-rmse:0.46318\n",
      "[146]\ttrain-rmse:0.05614\tval-rmse:0.46323\n",
      "[147]\ttrain-rmse:0.05602\tval-rmse:0.46330\n",
      "[148]\ttrain-rmse:0.05588\tval-rmse:0.46337\n",
      "[149]\ttrain-rmse:0.05583\tval-rmse:0.46336\n",
      "[150]\ttrain-rmse:0.05578\tval-rmse:0.46340\n",
      "[151]\ttrain-rmse:0.05574\tval-rmse:0.46342\n",
      "[152]\ttrain-rmse:0.05572\tval-rmse:0.46346\n",
      "[153]\ttrain-rmse:0.05567\tval-rmse:0.46342\n",
      "[154]\ttrain-rmse:0.05563\tval-rmse:0.46345\n",
      "[155]\ttrain-rmse:0.05560\tval-rmse:0.46346\n",
      "[156]\ttrain-rmse:0.05559\tval-rmse:0.46350\n",
      "[157]\ttrain-rmse:0.05556\tval-rmse:0.46350\n",
      "[158]\ttrain-rmse:0.05552\tval-rmse:0.46361\n",
      "[159]\ttrain-rmse:0.05549\tval-rmse:0.46367\n",
      "[160]\ttrain-rmse:0.05548\tval-rmse:0.46370\n",
      "[161]\ttrain-rmse:0.05546\tval-rmse:0.46370\n",
      "[162]\ttrain-rmse:0.05539\tval-rmse:0.46372\n",
      "[163]\ttrain-rmse:0.05536\tval-rmse:0.46366\n",
      "[164]\ttrain-rmse:0.05525\tval-rmse:0.46368\n",
      "[165]\ttrain-rmse:0.05523\tval-rmse:0.46369\n",
      "[166]\ttrain-rmse:0.05519\tval-rmse:0.46373\n",
      "[167]\ttrain-rmse:0.05517\tval-rmse:0.46374\n",
      "[168]\ttrain-rmse:0.05513\tval-rmse:0.46387\n",
      "[169]\ttrain-rmse:0.05510\tval-rmse:0.46387\n",
      "[170]\ttrain-rmse:0.05504\tval-rmse:0.46389\n",
      "[171]\ttrain-rmse:0.05502\tval-rmse:0.46389\n",
      "[172]\ttrain-rmse:0.05494\tval-rmse:0.46396\n",
      "[173]\ttrain-rmse:0.05491\tval-rmse:0.46399\n",
      "[174]\ttrain-rmse:0.05487\tval-rmse:0.46400\n",
      "[175]\ttrain-rmse:0.05481\tval-rmse:0.46414\n",
      "[176]\ttrain-rmse:0.05478\tval-rmse:0.46418\n",
      "[177]\ttrain-rmse:0.05475\tval-rmse:0.46414\n",
      "[178]\ttrain-rmse:0.05470\tval-rmse:0.46423\n",
      "[179]\ttrain-rmse:0.05467\tval-rmse:0.46430\n",
      "[180]\ttrain-rmse:0.05464\tval-rmse:0.46432\n",
      "[181]\ttrain-rmse:0.05463\tval-rmse:0.46431\n",
      "[182]\ttrain-rmse:0.05462\tval-rmse:0.46432\n",
      "[183]\ttrain-rmse:0.05460\tval-rmse:0.46435\n",
      "[184]\ttrain-rmse:0.05459\tval-rmse:0.46440\n",
      "[185]\ttrain-rmse:0.05454\tval-rmse:0.46442\n",
      "[186]\ttrain-rmse:0.05451\tval-rmse:0.46447\n",
      "[187]\ttrain-rmse:0.05447\tval-rmse:0.46449\n",
      "[188]\ttrain-rmse:0.05445\tval-rmse:0.46457\n",
      "[189]\ttrain-rmse:0.05444\tval-rmse:0.46459\n",
      "[190]\ttrain-rmse:0.05443\tval-rmse:0.46458\n",
      "[191]\ttrain-rmse:0.05442\tval-rmse:0.46463\n",
      "[192]\ttrain-rmse:0.05442\tval-rmse:0.46463\n",
      "[193]\ttrain-rmse:0.05439\tval-rmse:0.46466\n",
      "[194]\ttrain-rmse:0.05437\tval-rmse:0.46464\n",
      "[195]\ttrain-rmse:0.05436\tval-rmse:0.46468\n",
      "[196]\ttrain-rmse:0.05434\tval-rmse:0.46469\n",
      "[197]\ttrain-rmse:0.05433\tval-rmse:0.46464\n",
      "[198]\ttrain-rmse:0.05433\tval-rmse:0.46463\n",
      "[199]\ttrain-rmse:0.05432\tval-rmse:0.46466\n"
     ]
    }
   ],
   "source": [
    "import xgboost as xgb\n",
    "features = dv.get_feature_names_out()\n",
    "dtrain = xgb.DMatrix(X_train, label=y_train)\n",
    "dval = xgb.DMatrix(X_val, label=y_val)\n",
    "watchlist = [(dtrain, 'train'), (dval, 'val')]\n",
    "xgb_params = {\n",
    "    'eta': 0.3, \n",
    "    'max_depth': 6,\n",
    "    'min_child_weight': 1,\n",
    "    'objective': 'reg:squarederror',\n",
    "    'nthread': 8,\n",
    "    'seed': 1,\n",
    "    'verbosity': 1,\n",
    "}\n",
    "\n",
    "model = xgb.train(xgb_params, dtrain, num_boost_round=200, evals=watchlist)"
   ]
  },
  {
   "cell_type": "code",
   "execution_count": 69,
   "metadata": {},
   "outputs": [
    {
     "data": {
      "text/plain": [
       "0.46465925448239626"
      ]
     },
     "execution_count": 69,
     "metadata": {},
     "output_type": "execute_result"
    }
   ],
   "source": [
    "y_pred = model.predict(dval)\n",
    "rmse(y_pred, y_val)"
   ]
  },
  {
   "cell_type": "markdown",
   "metadata": {},
   "source": [
    "### Train best model on full train data - Decision Tree Regressor"
   ]
  },
  {
   "cell_type": "code",
   "execution_count": 70,
   "metadata": {},
   "outputs": [],
   "source": [
    "y_full_train = np.log1p(df_full_train.charges.values)\n",
    "y_test = np.log1p(df_test.charges.values)\n",
    "dv = DictVectorizer(sparse=False)\n",
    "del df_full_train['charges']\n",
    "del df_test['charges']\n",
    "full_train_dicts = df_full_train.to_dict(orient='records')\n",
    "X_full_train = dv.fit_transform(full_train_dicts)\n",
    "test_dicts = df_test.to_dict(orient='records')\n",
    "X_test = dv.transform(test_dicts)"
   ]
  },
  {
   "cell_type": "code",
   "execution_count": 71,
   "metadata": {},
   "outputs": [
    {
     "data": {
      "text/plain": [
       "0.34602842130666156"
      ]
     },
     "execution_count": 71,
     "metadata": {},
     "output_type": "execute_result"
    }
   ],
   "source": [
    "dt = DecisionTreeRegressor(min_samples_leaf=35, random_state=1, max_depth = 6)\n",
    "dt.fit(X_full_train, y_full_train)\n",
    "y_pred = dt.predict(X_test)\n",
    "rmse(y_pred, y_test)  "
   ]
  },
  {
   "cell_type": "code",
   "execution_count": 73,
   "metadata": {},
   "outputs": [],
   "source": [
    "import pickle"
   ]
  },
  {
   "cell_type": "code",
   "execution_count": 74,
   "metadata": {},
   "outputs": [],
   "source": [
    "model = dt.fit(X_full_train, y_full_train)\n",
    "\n",
    "with open(\"model.pkl\", \"wb\") as f:\n",
    "    pickle.dump((model), f)\n",
    "\n",
    "with open(\"dv.bin\", \"wb\") as f:\n",
    "    pickle.dump((dv), f)   "
   ]
  },
  {
   "cell_type": "markdown",
   "metadata": {},
   "source": []
  }
 ],
 "metadata": {
  "kernelspec": {
   "display_name": "Python 3",
   "language": "python",
   "name": "python3"
  },
  "language_info": {
   "codemirror_mode": {
    "name": "ipython",
    "version": 3
   },
   "file_extension": ".py",
   "mimetype": "text/x-python",
   "name": "python",
   "nbconvert_exporter": "python",
   "pygments_lexer": "ipython3",
   "version": "3.10.4"
  }
 },
 "nbformat": 4,
 "nbformat_minor": 2
}
